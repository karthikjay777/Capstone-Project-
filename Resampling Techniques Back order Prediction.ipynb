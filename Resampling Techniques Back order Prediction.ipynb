{
 "cells": [
  {
   "cell_type": "markdown",
   "metadata": {},
   "source": [
    "### RESAMPLING TECHNIQUES "
   ]
  },
  {
   "cell_type": "code",
   "execution_count": 1,
   "metadata": {},
   "outputs": [],
   "source": [
    "import numpy as np \n",
    "import pandas as pd \n",
    "import matplotlib.pyplot as plt \n",
    "import seaborn as sns \n",
    "import warnings\n",
    "warnings.filterwarnings(\"ignore\")\n",
    "from collections import Counter\n",
    "pd.set_option(\"display.max_columns\" , 50)"
   ]
  },
  {
   "cell_type": "code",
   "execution_count": 2,
   "metadata": {},
   "outputs": [
    {
     "data": {
      "text/html": [
       "<div>\n",
       "<style scoped>\n",
       "    .dataframe tbody tr th:only-of-type {\n",
       "        vertical-align: middle;\n",
       "    }\n",
       "\n",
       "    .dataframe tbody tr th {\n",
       "        vertical-align: top;\n",
       "    }\n",
       "\n",
       "    .dataframe thead th {\n",
       "        text-align: right;\n",
       "    }\n",
       "</style>\n",
       "<table border=\"1\" class=\"dataframe\">\n",
       "  <thead>\n",
       "    <tr style=\"text-align: right;\">\n",
       "      <th></th>\n",
       "      <th>sku</th>\n",
       "      <th>national_inv</th>\n",
       "      <th>lead_time</th>\n",
       "      <th>in_transit_qty</th>\n",
       "      <th>forecast_3_month</th>\n",
       "      <th>forecast_6_month</th>\n",
       "      <th>forecast_9_month</th>\n",
       "      <th>sales_1_month</th>\n",
       "      <th>sales_3_month</th>\n",
       "      <th>sales_6_month</th>\n",
       "      <th>sales_9_month</th>\n",
       "      <th>min_bank</th>\n",
       "      <th>potential_issue</th>\n",
       "      <th>pieces_past_due</th>\n",
       "      <th>perf_6_month_avg</th>\n",
       "      <th>perf_12_month_avg</th>\n",
       "      <th>local_bo_qty</th>\n",
       "      <th>deck_risk</th>\n",
       "      <th>oe_constraint</th>\n",
       "      <th>ppap_risk</th>\n",
       "      <th>stop_auto_buy</th>\n",
       "      <th>rev_stop</th>\n",
       "      <th>went_on_backorder</th>\n",
       "    </tr>\n",
       "  </thead>\n",
       "  <tbody>\n",
       "    <tr>\n",
       "      <td>0</td>\n",
       "      <td>1026827</td>\n",
       "      <td>0.0</td>\n",
       "      <td>NaN</td>\n",
       "      <td>0.0</td>\n",
       "      <td>0.0</td>\n",
       "      <td>0.0</td>\n",
       "      <td>0.0</td>\n",
       "      <td>0.0</td>\n",
       "      <td>0.0</td>\n",
       "      <td>0.0</td>\n",
       "      <td>0.0</td>\n",
       "      <td>0.0</td>\n",
       "      <td>No</td>\n",
       "      <td>0.0</td>\n",
       "      <td>-99.00</td>\n",
       "      <td>-99.00</td>\n",
       "      <td>0.0</td>\n",
       "      <td>No</td>\n",
       "      <td>No</td>\n",
       "      <td>No</td>\n",
       "      <td>Yes</td>\n",
       "      <td>No</td>\n",
       "      <td>No</td>\n",
       "    </tr>\n",
       "    <tr>\n",
       "      <td>1</td>\n",
       "      <td>1043384</td>\n",
       "      <td>2.0</td>\n",
       "      <td>9.0</td>\n",
       "      <td>0.0</td>\n",
       "      <td>0.0</td>\n",
       "      <td>0.0</td>\n",
       "      <td>0.0</td>\n",
       "      <td>0.0</td>\n",
       "      <td>0.0</td>\n",
       "      <td>0.0</td>\n",
       "      <td>0.0</td>\n",
       "      <td>0.0</td>\n",
       "      <td>No</td>\n",
       "      <td>0.0</td>\n",
       "      <td>0.99</td>\n",
       "      <td>0.99</td>\n",
       "      <td>0.0</td>\n",
       "      <td>No</td>\n",
       "      <td>No</td>\n",
       "      <td>No</td>\n",
       "      <td>Yes</td>\n",
       "      <td>No</td>\n",
       "      <td>No</td>\n",
       "    </tr>\n",
       "    <tr>\n",
       "      <td>2</td>\n",
       "      <td>1043696</td>\n",
       "      <td>2.0</td>\n",
       "      <td>NaN</td>\n",
       "      <td>0.0</td>\n",
       "      <td>0.0</td>\n",
       "      <td>0.0</td>\n",
       "      <td>0.0</td>\n",
       "      <td>0.0</td>\n",
       "      <td>0.0</td>\n",
       "      <td>0.0</td>\n",
       "      <td>0.0</td>\n",
       "      <td>0.0</td>\n",
       "      <td>No</td>\n",
       "      <td>0.0</td>\n",
       "      <td>-99.00</td>\n",
       "      <td>-99.00</td>\n",
       "      <td>0.0</td>\n",
       "      <td>Yes</td>\n",
       "      <td>No</td>\n",
       "      <td>No</td>\n",
       "      <td>Yes</td>\n",
       "      <td>No</td>\n",
       "      <td>No</td>\n",
       "    </tr>\n",
       "    <tr>\n",
       "      <td>3</td>\n",
       "      <td>1043852</td>\n",
       "      <td>7.0</td>\n",
       "      <td>8.0</td>\n",
       "      <td>0.0</td>\n",
       "      <td>0.0</td>\n",
       "      <td>0.0</td>\n",
       "      <td>0.0</td>\n",
       "      <td>0.0</td>\n",
       "      <td>0.0</td>\n",
       "      <td>0.0</td>\n",
       "      <td>0.0</td>\n",
       "      <td>1.0</td>\n",
       "      <td>No</td>\n",
       "      <td>0.0</td>\n",
       "      <td>0.10</td>\n",
       "      <td>0.13</td>\n",
       "      <td>0.0</td>\n",
       "      <td>No</td>\n",
       "      <td>No</td>\n",
       "      <td>No</td>\n",
       "      <td>Yes</td>\n",
       "      <td>No</td>\n",
       "      <td>No</td>\n",
       "    </tr>\n",
       "    <tr>\n",
       "      <td>4</td>\n",
       "      <td>1044048</td>\n",
       "      <td>8.0</td>\n",
       "      <td>NaN</td>\n",
       "      <td>0.0</td>\n",
       "      <td>0.0</td>\n",
       "      <td>0.0</td>\n",
       "      <td>0.0</td>\n",
       "      <td>0.0</td>\n",
       "      <td>0.0</td>\n",
       "      <td>0.0</td>\n",
       "      <td>4.0</td>\n",
       "      <td>2.0</td>\n",
       "      <td>No</td>\n",
       "      <td>0.0</td>\n",
       "      <td>-99.00</td>\n",
       "      <td>-99.00</td>\n",
       "      <td>0.0</td>\n",
       "      <td>Yes</td>\n",
       "      <td>No</td>\n",
       "      <td>No</td>\n",
       "      <td>Yes</td>\n",
       "      <td>No</td>\n",
       "      <td>No</td>\n",
       "    </tr>\n",
       "    <tr>\n",
       "      <td>...</td>\n",
       "      <td>...</td>\n",
       "      <td>...</td>\n",
       "      <td>...</td>\n",
       "      <td>...</td>\n",
       "      <td>...</td>\n",
       "      <td>...</td>\n",
       "      <td>...</td>\n",
       "      <td>...</td>\n",
       "      <td>...</td>\n",
       "      <td>...</td>\n",
       "      <td>...</td>\n",
       "      <td>...</td>\n",
       "      <td>...</td>\n",
       "      <td>...</td>\n",
       "      <td>...</td>\n",
       "      <td>...</td>\n",
       "      <td>...</td>\n",
       "      <td>...</td>\n",
       "      <td>...</td>\n",
       "      <td>...</td>\n",
       "      <td>...</td>\n",
       "      <td>...</td>\n",
       "      <td>...</td>\n",
       "    </tr>\n",
       "    <tr>\n",
       "      <td>1687856</td>\n",
       "      <td>1373987</td>\n",
       "      <td>-1.0</td>\n",
       "      <td>NaN</td>\n",
       "      <td>0.0</td>\n",
       "      <td>5.0</td>\n",
       "      <td>7.0</td>\n",
       "      <td>9.0</td>\n",
       "      <td>1.0</td>\n",
       "      <td>3.0</td>\n",
       "      <td>3.0</td>\n",
       "      <td>8.0</td>\n",
       "      <td>0.0</td>\n",
       "      <td>No</td>\n",
       "      <td>0.0</td>\n",
       "      <td>-99.00</td>\n",
       "      <td>-99.00</td>\n",
       "      <td>1.0</td>\n",
       "      <td>No</td>\n",
       "      <td>No</td>\n",
       "      <td>No</td>\n",
       "      <td>Yes</td>\n",
       "      <td>No</td>\n",
       "      <td>No</td>\n",
       "    </tr>\n",
       "    <tr>\n",
       "      <td>1687857</td>\n",
       "      <td>1524346</td>\n",
       "      <td>-1.0</td>\n",
       "      <td>9.0</td>\n",
       "      <td>0.0</td>\n",
       "      <td>7.0</td>\n",
       "      <td>9.0</td>\n",
       "      <td>11.0</td>\n",
       "      <td>0.0</td>\n",
       "      <td>8.0</td>\n",
       "      <td>11.0</td>\n",
       "      <td>12.0</td>\n",
       "      <td>0.0</td>\n",
       "      <td>No</td>\n",
       "      <td>0.0</td>\n",
       "      <td>0.86</td>\n",
       "      <td>0.84</td>\n",
       "      <td>1.0</td>\n",
       "      <td>Yes</td>\n",
       "      <td>No</td>\n",
       "      <td>No</td>\n",
       "      <td>No</td>\n",
       "      <td>No</td>\n",
       "      <td>Yes</td>\n",
       "    </tr>\n",
       "    <tr>\n",
       "      <td>1687858</td>\n",
       "      <td>1439563</td>\n",
       "      <td>62.0</td>\n",
       "      <td>9.0</td>\n",
       "      <td>16.0</td>\n",
       "      <td>39.0</td>\n",
       "      <td>87.0</td>\n",
       "      <td>126.0</td>\n",
       "      <td>35.0</td>\n",
       "      <td>63.0</td>\n",
       "      <td>153.0</td>\n",
       "      <td>205.0</td>\n",
       "      <td>12.0</td>\n",
       "      <td>No</td>\n",
       "      <td>0.0</td>\n",
       "      <td>0.86</td>\n",
       "      <td>0.84</td>\n",
       "      <td>6.0</td>\n",
       "      <td>No</td>\n",
       "      <td>No</td>\n",
       "      <td>No</td>\n",
       "      <td>Yes</td>\n",
       "      <td>No</td>\n",
       "      <td>No</td>\n",
       "    </tr>\n",
       "    <tr>\n",
       "      <td>1687859</td>\n",
       "      <td>1502009</td>\n",
       "      <td>19.0</td>\n",
       "      <td>4.0</td>\n",
       "      <td>0.0</td>\n",
       "      <td>0.0</td>\n",
       "      <td>0.0</td>\n",
       "      <td>0.0</td>\n",
       "      <td>2.0</td>\n",
       "      <td>7.0</td>\n",
       "      <td>12.0</td>\n",
       "      <td>20.0</td>\n",
       "      <td>1.0</td>\n",
       "      <td>No</td>\n",
       "      <td>0.0</td>\n",
       "      <td>0.73</td>\n",
       "      <td>0.78</td>\n",
       "      <td>1.0</td>\n",
       "      <td>No</td>\n",
       "      <td>No</td>\n",
       "      <td>No</td>\n",
       "      <td>Yes</td>\n",
       "      <td>No</td>\n",
       "      <td>No</td>\n",
       "    </tr>\n",
       "    <tr>\n",
       "      <td>1687860</td>\n",
       "      <td>(1687860 rows)</td>\n",
       "      <td>NaN</td>\n",
       "      <td>NaN</td>\n",
       "      <td>NaN</td>\n",
       "      <td>NaN</td>\n",
       "      <td>NaN</td>\n",
       "      <td>NaN</td>\n",
       "      <td>NaN</td>\n",
       "      <td>NaN</td>\n",
       "      <td>NaN</td>\n",
       "      <td>NaN</td>\n",
       "      <td>NaN</td>\n",
       "      <td>NaN</td>\n",
       "      <td>NaN</td>\n",
       "      <td>NaN</td>\n",
       "      <td>NaN</td>\n",
       "      <td>NaN</td>\n",
       "      <td>NaN</td>\n",
       "      <td>NaN</td>\n",
       "      <td>NaN</td>\n",
       "      <td>NaN</td>\n",
       "      <td>NaN</td>\n",
       "      <td>NaN</td>\n",
       "    </tr>\n",
       "  </tbody>\n",
       "</table>\n",
       "<p>1687861 rows × 23 columns</p>\n",
       "</div>"
      ],
      "text/plain": [
       "                    sku  national_inv  lead_time  in_transit_qty  \\\n",
       "0               1026827           0.0        NaN             0.0   \n",
       "1               1043384           2.0        9.0             0.0   \n",
       "2               1043696           2.0        NaN             0.0   \n",
       "3               1043852           7.0        8.0             0.0   \n",
       "4               1044048           8.0        NaN             0.0   \n",
       "...                 ...           ...        ...             ...   \n",
       "1687856         1373987          -1.0        NaN             0.0   \n",
       "1687857         1524346          -1.0        9.0             0.0   \n",
       "1687858         1439563          62.0        9.0            16.0   \n",
       "1687859         1502009          19.0        4.0             0.0   \n",
       "1687860  (1687860 rows)           NaN        NaN             NaN   \n",
       "\n",
       "         forecast_3_month  forecast_6_month  forecast_9_month  sales_1_month  \\\n",
       "0                     0.0               0.0               0.0            0.0   \n",
       "1                     0.0               0.0               0.0            0.0   \n",
       "2                     0.0               0.0               0.0            0.0   \n",
       "3                     0.0               0.0               0.0            0.0   \n",
       "4                     0.0               0.0               0.0            0.0   \n",
       "...                   ...               ...               ...            ...   \n",
       "1687856               5.0               7.0               9.0            1.0   \n",
       "1687857               7.0               9.0              11.0            0.0   \n",
       "1687858              39.0              87.0             126.0           35.0   \n",
       "1687859               0.0               0.0               0.0            2.0   \n",
       "1687860               NaN               NaN               NaN            NaN   \n",
       "\n",
       "         sales_3_month  sales_6_month  sales_9_month  min_bank  \\\n",
       "0                  0.0            0.0            0.0       0.0   \n",
       "1                  0.0            0.0            0.0       0.0   \n",
       "2                  0.0            0.0            0.0       0.0   \n",
       "3                  0.0            0.0            0.0       1.0   \n",
       "4                  0.0            0.0            4.0       2.0   \n",
       "...                ...            ...            ...       ...   \n",
       "1687856            3.0            3.0            8.0       0.0   \n",
       "1687857            8.0           11.0           12.0       0.0   \n",
       "1687858           63.0          153.0          205.0      12.0   \n",
       "1687859            7.0           12.0           20.0       1.0   \n",
       "1687860            NaN            NaN            NaN       NaN   \n",
       "\n",
       "        potential_issue  pieces_past_due  perf_6_month_avg  perf_12_month_avg  \\\n",
       "0                    No              0.0            -99.00             -99.00   \n",
       "1                    No              0.0              0.99               0.99   \n",
       "2                    No              0.0            -99.00             -99.00   \n",
       "3                    No              0.0              0.10               0.13   \n",
       "4                    No              0.0            -99.00             -99.00   \n",
       "...                 ...              ...               ...                ...   \n",
       "1687856              No              0.0            -99.00             -99.00   \n",
       "1687857              No              0.0              0.86               0.84   \n",
       "1687858              No              0.0              0.86               0.84   \n",
       "1687859              No              0.0              0.73               0.78   \n",
       "1687860             NaN              NaN               NaN                NaN   \n",
       "\n",
       "         local_bo_qty deck_risk oe_constraint ppap_risk stop_auto_buy  \\\n",
       "0                 0.0        No            No        No           Yes   \n",
       "1                 0.0        No            No        No           Yes   \n",
       "2                 0.0       Yes            No        No           Yes   \n",
       "3                 0.0        No            No        No           Yes   \n",
       "4                 0.0       Yes            No        No           Yes   \n",
       "...               ...       ...           ...       ...           ...   \n",
       "1687856           1.0        No            No        No           Yes   \n",
       "1687857           1.0       Yes            No        No            No   \n",
       "1687858           6.0        No            No        No           Yes   \n",
       "1687859           1.0        No            No        No           Yes   \n",
       "1687860           NaN       NaN           NaN       NaN           NaN   \n",
       "\n",
       "        rev_stop went_on_backorder  \n",
       "0             No                No  \n",
       "1             No                No  \n",
       "2             No                No  \n",
       "3             No                No  \n",
       "4             No                No  \n",
       "...          ...               ...  \n",
       "1687856       No                No  \n",
       "1687857       No               Yes  \n",
       "1687858       No                No  \n",
       "1687859       No                No  \n",
       "1687860      NaN               NaN  \n",
       "\n",
       "[1687861 rows x 23 columns]"
      ]
     },
     "execution_count": 2,
     "metadata": {},
     "output_type": "execute_result"
    }
   ],
   "source": [
    "df = pd.read_csv(\"D:\\Capstone Project\\Training_Dataset_v2.csv\")\n",
    "df"
   ]
  },
  {
   "cell_type": "code",
   "execution_count": 3,
   "metadata": {},
   "outputs": [],
   "source": [
    "#making it Nan first and then replacing to avoid misinterpretation\n",
    "\n",
    "df['perf_6_month_avg'].replace(-99,np.NaN, inplace=True)\n",
    "df['perf_12_month_avg'].replace(-99,np.NaN,inplace=True)"
   ]
  },
  {
   "cell_type": "code",
   "execution_count": 4,
   "metadata": {},
   "outputs": [],
   "source": [
    "df[\"lead_time\"] = df[\"lead_time\"].fillna(df[\"lead_time\"].median())\n",
    "df[\"perf_6_month_avg\"] = df[\"perf_6_month_avg\"].fillna(df[\"perf_6_month_avg\"].median())\n",
    "df[\"perf_12_month_avg\"] = df[\"perf_12_month_avg\"].fillna(df[\"perf_12_month_avg\"].median())"
   ]
  },
  {
   "cell_type": "code",
   "execution_count": 5,
   "metadata": {},
   "outputs": [],
   "source": [
    "## This last row considered to be invalid and can be removed \n",
    "\n",
    "df = df.dropna()"
   ]
  },
  {
   "cell_type": "code",
   "execution_count": 6,
   "metadata": {},
   "outputs": [],
   "source": [
    "df[\"potential_issue\"] = df[\"potential_issue\"].replace({\"Yes\" : 1 , \"No\" : 0}).astype(int)\n",
    "df[\"deck_risk\"] = df[\"deck_risk\"].replace({\"Yes\" : 1 , \"No\" : 0}).astype(int)\n",
    "df[\"oe_constraint\"] = df[\"oe_constraint\"].replace({\"Yes\" : 1 , \"No\" : 0}).astype(int)\n",
    "df[\"ppap_risk\"] = df[\"ppap_risk\"].replace({\"Yes\" : 1 , \"No\" : 0}).astype(int)\n",
    "df[\"stop_auto_buy\"] = df[\"stop_auto_buy\"].replace({\"Yes\" : 1 , \"No\" : 0}).astype(int)\n",
    "df[\"rev_stop\"] = df[\"rev_stop\"].replace({\"Yes\" : 1 , \"No\" : 0}).astype(int)\n",
    "df[\"went_on_backorder\"] = df[\"went_on_backorder\"].replace({\"Yes\" : 1 , \"No\" : 0}).astype(int)"
   ]
  },
  {
   "cell_type": "code",
   "execution_count": 7,
   "metadata": {},
   "outputs": [
    {
     "data": {
      "text/plain": [
       "0    1676567\n",
       "1      11293\n",
       "Name: went_on_backorder, dtype: int64"
      ]
     },
     "execution_count": 7,
     "metadata": {},
     "output_type": "execute_result"
    }
   ],
   "source": [
    "df['went_on_backorder'].value_counts()"
   ]
  },
  {
   "cell_type": "code",
   "execution_count": 8,
   "metadata": {
    "scrolled": false
   },
   "outputs": [
    {
     "data": {
      "text/plain": [
       "Text(0, 0.5, 'Frequency')"
      ]
     },
     "execution_count": 8,
     "metadata": {},
     "output_type": "execute_result"
    },
    {
     "data": {
      "image/png": "[encoded data removed]",
      "text/plain": [
       "<Figure size 1080x720 with 1 Axes>"
      ]
     },
     "metadata": {
      "needs_background": "light"
     },
     "output_type": "display_data"
    }
   ],
   "source": [
    "plt.figure(figsize=(15,10))\n",
    "df['went_on_backorder'].value_counts().plot(kind = \"bar\")\n",
    "plt.xlabel(\"Class\")\n",
    "plt.ylabel(\"Frequency\")"
   ]
  },
  {
   "cell_type": "markdown",
   "metadata": {},
   "source": [
    "## Scale the data "
   ]
  },
  {
   "cell_type": "code",
   "execution_count": 9,
   "metadata": {},
   "outputs": [],
   "source": [
    "from sklearn.preprocessing import MinMaxScaler"
   ]
  },
  {
   "cell_type": "markdown",
   "metadata": {},
   "source": [
    "### Separate the Data"
   ]
  },
  {
   "cell_type": "code",
   "execution_count": 10,
   "metadata": {},
   "outputs": [],
   "source": [
    "X = df.drop([\"went_on_backorder\" , \"sku\"] ,1 )\n",
    "y = df[\"went_on_backorder\"]"
   ]
  },
  {
   "cell_type": "code",
   "execution_count": 11,
   "metadata": {},
   "outputs": [],
   "source": [
    "scaler = MinMaxScaler()\n",
    "X_sc = scaler.fit_transform(X)\n"
   ]
  },
  {
   "cell_type": "code",
   "execution_count": 12,
   "metadata": {},
   "outputs": [
    {
     "data": {
      "text/plain": [
       "array([[2.20488187e-03, 1.53846154e-01, 0.00000000e+00, ...,\n",
       "        0.00000000e+00, 1.00000000e+00, 0.00000000e+00],\n",
       "       [2.20504366e-03, 1.73076923e-01, 0.00000000e+00, ...,\n",
       "        0.00000000e+00, 1.00000000e+00, 0.00000000e+00],\n",
       "       [2.20504366e-03, 1.53846154e-01, 0.00000000e+00, ...,\n",
       "        0.00000000e+00, 1.00000000e+00, 0.00000000e+00],\n",
       "       ...,\n",
       "       [2.20480097e-03, 1.73076923e-01, 0.00000000e+00, ...,\n",
       "        0.00000000e+00, 0.00000000e+00, 0.00000000e+00],\n",
       "       [2.20989738e-03, 1.73076923e-01, 3.26925592e-05, ...,\n",
       "        0.00000000e+00, 1.00000000e+00, 0.00000000e+00],\n",
       "       [2.20641888e-03, 7.69230769e-02, 0.00000000e+00, ...,\n",
       "        0.00000000e+00, 1.00000000e+00, 0.00000000e+00]])"
      ]
     },
     "execution_count": 12,
     "metadata": {},
     "output_type": "execute_result"
    }
   ],
   "source": [
    "X_sc"
   ]
  },
  {
   "cell_type": "code",
   "execution_count": 13,
   "metadata": {},
   "outputs": [
    {
     "data": {
      "text/plain": [
       "0          0\n",
       "1          0\n",
       "2          0\n",
       "3          0\n",
       "4          0\n",
       "          ..\n",
       "1687855    0\n",
       "1687856    0\n",
       "1687857    1\n",
       "1687858    0\n",
       "1687859    0\n",
       "Name: went_on_backorder, Length: 1687860, dtype: int32"
      ]
     },
     "execution_count": 13,
     "metadata": {},
     "output_type": "execute_result"
    }
   ],
   "source": [
    "y"
   ]
  },
  {
   "cell_type": "code",
   "execution_count": 14,
   "metadata": {},
   "outputs": [],
   "source": [
    "from sklearn.model_selection import train_test_split\n",
    "\n",
    "x_train, x_test, y_train, y_test = train_test_split(X_sc,y,test_size=0.30, random_state = 62)"
   ]
  },
  {
   "cell_type": "markdown",
   "metadata": {},
   "source": [
    "I will attempt to perform 3 methods of sampling to resolve this imbalanced dataset issue\n",
    "\n",
    "##### Undersampling\n",
    "\n",
    "##### Oversampling\n",
    "\n",
    "##### SMOTE - Synthetic Minority Oversampling Technique\n"
   ]
  },
  {
   "cell_type": "markdown",
   "metadata": {},
   "source": [
    "## 1. Undersampling\n",
    "\n",
    "#### The process of reducing the class instances of the MAJORITY class is called Undersampling. I will attempt to undersample the data and give a 50/50 ratio to each of the class's instances. Following are the steps for undersampling\n",
    "\n",
    "    * Find the number of the minority class\n",
    "\n",
    "    * Find the indices of the majority class\n",
    "\n",
    "    * Find the indices of the minority class\n",
    "\n",
    "    * Randomly sample the majority indices with respect to the minority numbers\n",
    "\n",
    "    * Concat the minority indices with the indices from step 4\n",
    "\n",
    "    * Get the balanced dataframe - This is the final undersampled data\n",
    "\n",
    "#### Disadvantage is you will lose critical data as you are reducing the instances of the majority class.\n",
    "\n"
   ]
  },
  {
   "cell_type": "markdown",
   "metadata": {},
   "source": [
    "## 1 - Backorder (Minority Class)\n",
    "## 0 - Not Backorder (Majority Class)"
   ]
  },
  {
   "cell_type": "code",
   "execution_count": 15,
   "metadata": {},
   "outputs": [],
   "source": [
    "#1. Find the number of the minority class\n",
    "\n",
    "number_bo = len(df[df['went_on_backorder']==1])"
   ]
  },
  {
   "cell_type": "code",
   "execution_count": 16,
   "metadata": {},
   "outputs": [],
   "source": [
    "number_not_bo = len(df[df['went_on_backorder']==0])"
   ]
  },
  {
   "cell_type": "code",
   "execution_count": 17,
   "metadata": {},
   "outputs": [
    {
     "name": "stdout",
     "output_type": "stream",
     "text": [
      "11293\n",
      "1676567\n"
     ]
    }
   ],
   "source": [
    "print(number_bo)\n",
    "print(number_not_bo)"
   ]
  },
  {
   "cell_type": "code",
   "execution_count": 18,
   "metadata": {},
   "outputs": [],
   "source": [
    "#2. Find the indices of the majority class\n",
    "index_not_bo= df[df['went_on_backorder']==0].index"
   ]
  },
  {
   "cell_type": "code",
   "execution_count": 19,
   "metadata": {},
   "outputs": [],
   "source": [
    "#.3 Find the indices of the minority class\n",
    "index_bo = df[df['went_on_backorder']==1].index"
   ]
  },
  {
   "cell_type": "code",
   "execution_count": 20,
   "metadata": {},
   "outputs": [],
   "source": [
    "#4. Randomly sample the majority indices with respect to the number of minority classes\n",
    "random_indices = np.random.choice(index_not_bo, number_bo,replace='False')"
   ]
  },
  {
   "cell_type": "code",
   "execution_count": 21,
   "metadata": {},
   "outputs": [
    {
     "data": {
      "text/plain": [
       "11293"
      ]
     },
     "execution_count": 21,
     "metadata": {},
     "output_type": "execute_result"
    }
   ],
   "source": [
    "len(random_indices)"
   ]
  },
  {
   "cell_type": "code",
   "execution_count": 22,
   "metadata": {},
   "outputs": [],
   "source": [
    "#5. Concat the minority indices with the indices from step 4\n",
    "under_sample_indices = np.concatenate([index_bo,random_indices])"
   ]
  },
  {
   "cell_type": "code",
   "execution_count": 23,
   "metadata": {},
   "outputs": [],
   "source": [
    "#Get the balanced dataframe - This is the final undersampled data\n",
    "under_sample_df = df.iloc[under_sample_indices]"
   ]
  },
  {
   "cell_type": "code",
   "execution_count": 24,
   "metadata": {},
   "outputs": [
    {
     "data": {
      "text/html": [
       "<div>\n",
       "<style scoped>\n",
       "    .dataframe tbody tr th:only-of-type {\n",
       "        vertical-align: middle;\n",
       "    }\n",
       "\n",
       "    .dataframe tbody tr th {\n",
       "        vertical-align: top;\n",
       "    }\n",
       "\n",
       "    .dataframe thead th {\n",
       "        text-align: right;\n",
       "    }\n",
       "</style>\n",
       "<table border=\"1\" class=\"dataframe\">\n",
       "  <thead>\n",
       "    <tr style=\"text-align: right;\">\n",
       "      <th></th>\n",
       "      <th>sku</th>\n",
       "      <th>national_inv</th>\n",
       "      <th>lead_time</th>\n",
       "      <th>in_transit_qty</th>\n",
       "      <th>forecast_3_month</th>\n",
       "      <th>forecast_6_month</th>\n",
       "      <th>forecast_9_month</th>\n",
       "      <th>sales_1_month</th>\n",
       "      <th>sales_3_month</th>\n",
       "      <th>sales_6_month</th>\n",
       "      <th>sales_9_month</th>\n",
       "      <th>min_bank</th>\n",
       "      <th>potential_issue</th>\n",
       "      <th>pieces_past_due</th>\n",
       "      <th>perf_6_month_avg</th>\n",
       "      <th>perf_12_month_avg</th>\n",
       "      <th>local_bo_qty</th>\n",
       "      <th>deck_risk</th>\n",
       "      <th>oe_constraint</th>\n",
       "      <th>ppap_risk</th>\n",
       "      <th>stop_auto_buy</th>\n",
       "      <th>rev_stop</th>\n",
       "      <th>went_on_backorder</th>\n",
       "    </tr>\n",
       "  </thead>\n",
       "  <tbody>\n",
       "    <tr>\n",
       "      <td>143</td>\n",
       "      <td>1111623</td>\n",
       "      <td>0.0</td>\n",
       "      <td>8.0</td>\n",
       "      <td>0.0</td>\n",
       "      <td>2.0</td>\n",
       "      <td>3.0</td>\n",
       "      <td>5.0</td>\n",
       "      <td>0.0</td>\n",
       "      <td>3.0</td>\n",
       "      <td>3.0</td>\n",
       "      <td>3.0</td>\n",
       "      <td>2.0</td>\n",
       "      <td>0</td>\n",
       "      <td>0.0</td>\n",
       "      <td>0.68</td>\n",
       "      <td>0.58</td>\n",
       "      <td>0.0</td>\n",
       "      <td>0</td>\n",
       "      <td>0</td>\n",
       "      <td>1</td>\n",
       "      <td>1</td>\n",
       "      <td>0</td>\n",
       "      <td>1</td>\n",
       "    </tr>\n",
       "    <tr>\n",
       "      <td>173</td>\n",
       "      <td>1111652</td>\n",
       "      <td>24.0</td>\n",
       "      <td>8.0</td>\n",
       "      <td>0.0</td>\n",
       "      <td>3456.0</td>\n",
       "      <td>3456.0</td>\n",
       "      <td>3456.0</td>\n",
       "      <td>10.0</td>\n",
       "      <td>39.0</td>\n",
       "      <td>68.0</td>\n",
       "      <td>93.0</td>\n",
       "      <td>7.0</td>\n",
       "      <td>0</td>\n",
       "      <td>0.0</td>\n",
       "      <td>1.00</td>\n",
       "      <td>0.95</td>\n",
       "      <td>1.0</td>\n",
       "      <td>0</td>\n",
       "      <td>0</td>\n",
       "      <td>1</td>\n",
       "      <td>1</td>\n",
       "      <td>0</td>\n",
       "      <td>1</td>\n",
       "    </tr>\n",
       "    <tr>\n",
       "      <td>176</td>\n",
       "      <td>1111655</td>\n",
       "      <td>-55.0</td>\n",
       "      <td>8.0</td>\n",
       "      <td>2.0</td>\n",
       "      <td>428.0</td>\n",
       "      <td>526.0</td>\n",
       "      <td>606.0</td>\n",
       "      <td>25.0</td>\n",
       "      <td>100.0</td>\n",
       "      <td>205.0</td>\n",
       "      <td>387.0</td>\n",
       "      <td>52.0</td>\n",
       "      <td>0</td>\n",
       "      <td>0.0</td>\n",
       "      <td>0.85</td>\n",
       "      <td>0.83</td>\n",
       "      <td>56.0</td>\n",
       "      <td>0</td>\n",
       "      <td>0</td>\n",
       "      <td>0</td>\n",
       "      <td>1</td>\n",
       "      <td>0</td>\n",
       "      <td>1</td>\n",
       "    </tr>\n",
       "    <tr>\n",
       "      <td>180</td>\n",
       "      <td>1111659</td>\n",
       "      <td>30.0</td>\n",
       "      <td>8.0</td>\n",
       "      <td>14.0</td>\n",
       "      <td>42.0</td>\n",
       "      <td>84.0</td>\n",
       "      <td>126.0</td>\n",
       "      <td>7.0</td>\n",
       "      <td>56.0</td>\n",
       "      <td>107.0</td>\n",
       "      <td>148.0</td>\n",
       "      <td>24.0</td>\n",
       "      <td>0</td>\n",
       "      <td>0.0</td>\n",
       "      <td>0.98</td>\n",
       "      <td>0.92</td>\n",
       "      <td>0.0</td>\n",
       "      <td>0</td>\n",
       "      <td>0</td>\n",
       "      <td>0</td>\n",
       "      <td>1</td>\n",
       "      <td>0</td>\n",
       "      <td>1</td>\n",
       "    </tr>\n",
       "    <tr>\n",
       "      <td>191</td>\n",
       "      <td>1111670</td>\n",
       "      <td>-499.0</td>\n",
       "      <td>12.0</td>\n",
       "      <td>350.0</td>\n",
       "      <td>3452.0</td>\n",
       "      <td>5044.0</td>\n",
       "      <td>7188.0</td>\n",
       "      <td>747.0</td>\n",
       "      <td>2550.0</td>\n",
       "      <td>3572.0</td>\n",
       "      <td>4745.0</td>\n",
       "      <td>401.0</td>\n",
       "      <td>0</td>\n",
       "      <td>0.0</td>\n",
       "      <td>0.49</td>\n",
       "      <td>0.72</td>\n",
       "      <td>525.0</td>\n",
       "      <td>0</td>\n",
       "      <td>0</td>\n",
       "      <td>0</td>\n",
       "      <td>1</td>\n",
       "      <td>0</td>\n",
       "      <td>1</td>\n",
       "    </tr>\n",
       "    <tr>\n",
       "      <td>...</td>\n",
       "      <td>...</td>\n",
       "      <td>...</td>\n",
       "      <td>...</td>\n",
       "      <td>...</td>\n",
       "      <td>...</td>\n",
       "      <td>...</td>\n",
       "      <td>...</td>\n",
       "      <td>...</td>\n",
       "      <td>...</td>\n",
       "      <td>...</td>\n",
       "      <td>...</td>\n",
       "      <td>...</td>\n",
       "      <td>...</td>\n",
       "      <td>...</td>\n",
       "      <td>...</td>\n",
       "      <td>...</td>\n",
       "      <td>...</td>\n",
       "      <td>...</td>\n",
       "      <td>...</td>\n",
       "      <td>...</td>\n",
       "      <td>...</td>\n",
       "      <td>...</td>\n",
       "      <td>...</td>\n",
       "    </tr>\n",
       "    <tr>\n",
       "      <td>1494203</td>\n",
       "      <td>3086168</td>\n",
       "      <td>2.0</td>\n",
       "      <td>8.0</td>\n",
       "      <td>0.0</td>\n",
       "      <td>0.0</td>\n",
       "      <td>0.0</td>\n",
       "      <td>0.0</td>\n",
       "      <td>0.0</td>\n",
       "      <td>0.0</td>\n",
       "      <td>0.0</td>\n",
       "      <td>0.0</td>\n",
       "      <td>2.0</td>\n",
       "      <td>0</td>\n",
       "      <td>0.0</td>\n",
       "      <td>0.98</td>\n",
       "      <td>0.98</td>\n",
       "      <td>0.0</td>\n",
       "      <td>0</td>\n",
       "      <td>0</td>\n",
       "      <td>0</td>\n",
       "      <td>1</td>\n",
       "      <td>0</td>\n",
       "      <td>0</td>\n",
       "    </tr>\n",
       "    <tr>\n",
       "      <td>268138</td>\n",
       "      <td>1616126</td>\n",
       "      <td>2.0</td>\n",
       "      <td>8.0</td>\n",
       "      <td>0.0</td>\n",
       "      <td>0.0</td>\n",
       "      <td>0.0</td>\n",
       "      <td>0.0</td>\n",
       "      <td>0.0</td>\n",
       "      <td>0.0</td>\n",
       "      <td>0.0</td>\n",
       "      <td>0.0</td>\n",
       "      <td>0.0</td>\n",
       "      <td>0</td>\n",
       "      <td>0.0</td>\n",
       "      <td>0.42</td>\n",
       "      <td>0.36</td>\n",
       "      <td>0.0</td>\n",
       "      <td>0</td>\n",
       "      <td>0</td>\n",
       "      <td>0</td>\n",
       "      <td>1</td>\n",
       "      <td>0</td>\n",
       "      <td>0</td>\n",
       "    </tr>\n",
       "    <tr>\n",
       "      <td>393279</td>\n",
       "      <td>1741241</td>\n",
       "      <td>106.0</td>\n",
       "      <td>8.0</td>\n",
       "      <td>0.0</td>\n",
       "      <td>0.0</td>\n",
       "      <td>0.0</td>\n",
       "      <td>0.0</td>\n",
       "      <td>4.0</td>\n",
       "      <td>13.0</td>\n",
       "      <td>19.0</td>\n",
       "      <td>20.0</td>\n",
       "      <td>0.0</td>\n",
       "      <td>0</td>\n",
       "      <td>0.0</td>\n",
       "      <td>0.00</td>\n",
       "      <td>0.00</td>\n",
       "      <td>0.0</td>\n",
       "      <td>0</td>\n",
       "      <td>0</td>\n",
       "      <td>1</td>\n",
       "      <td>1</td>\n",
       "      <td>0</td>\n",
       "      <td>0</td>\n",
       "    </tr>\n",
       "    <tr>\n",
       "      <td>1300974</td>\n",
       "      <td>2885120</td>\n",
       "      <td>0.0</td>\n",
       "      <td>4.0</td>\n",
       "      <td>15.0</td>\n",
       "      <td>0.0</td>\n",
       "      <td>0.0</td>\n",
       "      <td>0.0</td>\n",
       "      <td>0.0</td>\n",
       "      <td>0.0</td>\n",
       "      <td>0.0</td>\n",
       "      <td>0.0</td>\n",
       "      <td>0.0</td>\n",
       "      <td>0</td>\n",
       "      <td>0.0</td>\n",
       "      <td>0.73</td>\n",
       "      <td>0.78</td>\n",
       "      <td>0.0</td>\n",
       "      <td>1</td>\n",
       "      <td>0</td>\n",
       "      <td>1</td>\n",
       "      <td>1</td>\n",
       "      <td>0</td>\n",
       "      <td>0</td>\n",
       "    </tr>\n",
       "    <tr>\n",
       "      <td>1620093</td>\n",
       "      <td>3217129</td>\n",
       "      <td>1.0</td>\n",
       "      <td>9.0</td>\n",
       "      <td>0.0</td>\n",
       "      <td>0.0</td>\n",
       "      <td>0.0</td>\n",
       "      <td>0.0</td>\n",
       "      <td>0.0</td>\n",
       "      <td>0.0</td>\n",
       "      <td>0.0</td>\n",
       "      <td>0.0</td>\n",
       "      <td>1.0</td>\n",
       "      <td>0</td>\n",
       "      <td>0.0</td>\n",
       "      <td>0.54</td>\n",
       "      <td>0.48</td>\n",
       "      <td>0.0</td>\n",
       "      <td>0</td>\n",
       "      <td>0</td>\n",
       "      <td>0</td>\n",
       "      <td>1</td>\n",
       "      <td>0</td>\n",
       "      <td>0</td>\n",
       "    </tr>\n",
       "  </tbody>\n",
       "</table>\n",
       "<p>22586 rows × 23 columns</p>\n",
       "</div>"
      ],
      "text/plain": [
       "             sku  national_inv  lead_time  in_transit_qty  forecast_3_month  \\\n",
       "143      1111623           0.0        8.0             0.0               2.0   \n",
       "173      1111652          24.0        8.0             0.0            3456.0   \n",
       "176      1111655         -55.0        8.0             2.0             428.0   \n",
       "180      1111659          30.0        8.0            14.0              42.0   \n",
       "191      1111670        -499.0       12.0           350.0            3452.0   \n",
       "...          ...           ...        ...             ...               ...   \n",
       "1494203  3086168           2.0        8.0             0.0               0.0   \n",
       "268138   1616126           2.0        8.0             0.0               0.0   \n",
       "393279   1741241         106.0        8.0             0.0               0.0   \n",
       "1300974  2885120           0.0        4.0            15.0               0.0   \n",
       "1620093  3217129           1.0        9.0             0.0               0.0   \n",
       "\n",
       "         forecast_6_month  forecast_9_month  sales_1_month  sales_3_month  \\\n",
       "143                   3.0               5.0            0.0            3.0   \n",
       "173                3456.0            3456.0           10.0           39.0   \n",
       "176                 526.0             606.0           25.0          100.0   \n",
       "180                  84.0             126.0            7.0           56.0   \n",
       "191                5044.0            7188.0          747.0         2550.0   \n",
       "...                   ...               ...            ...            ...   \n",
       "1494203               0.0               0.0            0.0            0.0   \n",
       "268138                0.0               0.0            0.0            0.0   \n",
       "393279                0.0               0.0            4.0           13.0   \n",
       "1300974               0.0               0.0            0.0            0.0   \n",
       "1620093               0.0               0.0            0.0            0.0   \n",
       "\n",
       "         sales_6_month  sales_9_month  min_bank  potential_issue  \\\n",
       "143                3.0            3.0       2.0                0   \n",
       "173               68.0           93.0       7.0                0   \n",
       "176              205.0          387.0      52.0                0   \n",
       "180              107.0          148.0      24.0                0   \n",
       "191             3572.0         4745.0     401.0                0   \n",
       "...                ...            ...       ...              ...   \n",
       "1494203            0.0            0.0       2.0                0   \n",
       "268138             0.0            0.0       0.0                0   \n",
       "393279            19.0           20.0       0.0                0   \n",
       "1300974            0.0            0.0       0.0                0   \n",
       "1620093            0.0            0.0       1.0                0   \n",
       "\n",
       "         pieces_past_due  perf_6_month_avg  perf_12_month_avg  local_bo_qty  \\\n",
       "143                  0.0              0.68               0.58           0.0   \n",
       "173                  0.0              1.00               0.95           1.0   \n",
       "176                  0.0              0.85               0.83          56.0   \n",
       "180                  0.0              0.98               0.92           0.0   \n",
       "191                  0.0              0.49               0.72         525.0   \n",
       "...                  ...               ...                ...           ...   \n",
       "1494203              0.0              0.98               0.98           0.0   \n",
       "268138               0.0              0.42               0.36           0.0   \n",
       "393279               0.0              0.00               0.00           0.0   \n",
       "1300974              0.0              0.73               0.78           0.0   \n",
       "1620093              0.0              0.54               0.48           0.0   \n",
       "\n",
       "         deck_risk  oe_constraint  ppap_risk  stop_auto_buy  rev_stop  \\\n",
       "143              0              0          1              1         0   \n",
       "173              0              0          1              1         0   \n",
       "176              0              0          0              1         0   \n",
       "180              0              0          0              1         0   \n",
       "191              0              0          0              1         0   \n",
       "...            ...            ...        ...            ...       ...   \n",
       "1494203          0              0          0              1         0   \n",
       "268138           0              0          0              1         0   \n",
       "393279           0              0          1              1         0   \n",
       "1300974          1              0          1              1         0   \n",
       "1620093          0              0          0              1         0   \n",
       "\n",
       "         went_on_backorder  \n",
       "143                      1  \n",
       "173                      1  \n",
       "176                      1  \n",
       "180                      1  \n",
       "191                      1  \n",
       "...                    ...  \n",
       "1494203                  0  \n",
       "268138                   0  \n",
       "393279                   0  \n",
       "1300974                  0  \n",
       "1620093                  0  \n",
       "\n",
       "[22586 rows x 23 columns]"
      ]
     },
     "execution_count": 24,
     "metadata": {},
     "output_type": "execute_result"
    }
   ],
   "source": [
    "under_sample_df"
   ]
  },
  {
   "cell_type": "code",
   "execution_count": 25,
   "metadata": {},
   "outputs": [
    {
     "data": {
      "text/plain": [
       "Counter({1: 11293, 0: 11293})"
      ]
     },
     "execution_count": 25,
     "metadata": {},
     "output_type": "execute_result"
    }
   ],
   "source": [
    "Counter(under_sample_df[\"went_on_backorder\"])"
   ]
  },
  {
   "cell_type": "code",
   "execution_count": 26,
   "metadata": {},
   "outputs": [],
   "source": [
    "under_sample_backorder_counts = pd.value_counts(under_sample_df['went_on_backorder'])"
   ]
  },
  {
   "cell_type": "code",
   "execution_count": 27,
   "metadata": {},
   "outputs": [
    {
     "data": {
      "text/plain": [
       "<matplotlib.axes._subplots.AxesSubplot at 0x1d909f96108>"
      ]
     },
     "execution_count": 27,
     "metadata": {},
     "output_type": "execute_result"
    },
    {
     "data": {
      "image/png": "[encoded data removed]",
      "text/plain": [
       "<Figure size 432x288 with 1 Axes>"
      ]
     },
     "metadata": {
      "needs_background": "light"
     },
     "output_type": "display_data"
    }
   ],
   "source": [
    "under_sample_backorder_counts.plot(kind = \"bar\")"
   ]
  },
  {
   "cell_type": "code",
   "execution_count": 28,
   "metadata": {},
   "outputs": [],
   "source": [
    "## now that our data is equally distributed, we can split the data to X,y, train and test"
   ]
  },
  {
   "cell_type": "code",
   "execution_count": 29,
   "metadata": {},
   "outputs": [],
   "source": [
    "X_under = under_sample_df.drop([\"sku\" , \"went_on_backorder\"] , 1)\n",
    "y_under = under_sample_df[\"went_on_backorder\"]"
   ]
  },
  {
   "cell_type": "code",
   "execution_count": 30,
   "metadata": {},
   "outputs": [],
   "source": [
    "x_under_train, x_under_test, y_under_train, y_under_test = train_test_split(X_under, y_under, test_size=0.30, random_state=100)"
   ]
  },
  {
   "cell_type": "markdown",
   "metadata": {},
   "source": [
    "## Random Forest "
   ]
  },
  {
   "cell_type": "code",
   "execution_count": 31,
   "metadata": {},
   "outputs": [],
   "source": [
    "from sklearn.metrics import accuracy_score, f1_score,confusion_matrix,classification_report,roc_auc_score,roc_curve,auc\n",
    "from sklearn.model_selection import KFold\n",
    "from sklearn.model_selection import GridSearchCV\n",
    "from sklearn.model_selection import train_test_split\n",
    "from sklearn.model_selection import cross_val_score\n",
    "\n",
    "from sklearn.ensemble import RandomForestClassifier"
   ]
  },
  {
   "cell_type": "code",
   "execution_count": 32,
   "metadata": {},
   "outputs": [
    {
     "data": {
      "text/plain": [
       "RandomForestClassifier()"
      ]
     },
     "execution_count": 32,
     "metadata": {},
     "output_type": "execute_result"
    }
   ],
   "source": [
    "# Let's run the model\n",
    "\n",
    "rf = RandomForestClassifier()\n",
    "rf.fit(x_under_train, y_under_train)"
   ]
  },
  {
   "cell_type": "markdown",
   "metadata": {},
   "source": [
    "#### Random Forest Prediction"
   ]
  },
  {
   "cell_type": "code",
   "execution_count": 33,
   "metadata": {},
   "outputs": [],
   "source": [
    "# Predicted probabilities\n",
    "y_pred = rf.predict_proba(x_under_test)"
   ]
  },
  {
   "cell_type": "code",
   "execution_count": 34,
   "metadata": {},
   "outputs": [],
   "source": [
    "# Converting y_pred to a dataframe which is an array\n",
    "y_pred_df = pd.DataFrame(y_pred)"
   ]
  },
  {
   "cell_type": "code",
   "execution_count": 35,
   "metadata": {},
   "outputs": [],
   "source": [
    "# Converting to column dataframe (keeping the outcome of 1)\n",
    "y_pred_1 = y_pred_df.iloc[:,[1]]"
   ]
  },
  {
   "cell_type": "code",
   "execution_count": 36,
   "metadata": {},
   "outputs": [],
   "source": [
    "# Converting y_test to dataframe\n",
    "y_test_df = pd.DataFrame(y_under_test)"
   ]
  },
  {
   "cell_type": "code",
   "execution_count": 37,
   "metadata": {},
   "outputs": [],
   "source": [
    "# Putting sku to index\n",
    "y_test_df['sku'] = y_test_df.index"
   ]
  },
  {
   "cell_type": "code",
   "execution_count": 38,
   "metadata": {},
   "outputs": [],
   "source": [
    "# Removing index for both dataframes to append them side by side \n",
    "y_pred_1.reset_index(drop=True, inplace=True)\n",
    "y_test_df.reset_index(drop=True, inplace=True)"
   ]
  },
  {
   "cell_type": "code",
   "execution_count": 39,
   "metadata": {},
   "outputs": [],
   "source": [
    "# Appending y_test_df and y_pred_1\n",
    "\n",
    "y_pred_final = pd.concat([y_test_df,y_pred_1],axis=1)"
   ]
  },
  {
   "cell_type": "code",
   "execution_count": 40,
   "metadata": {},
   "outputs": [],
   "source": [
    "# Renaming the column \n",
    "y_pred_final= y_pred_final.rename(columns={ 1 : 'went_backorder_Prob'})"
   ]
  },
  {
   "cell_type": "code",
   "execution_count": 41,
   "metadata": {},
   "outputs": [
    {
     "data": {
      "text/plain": [
       "['went_on_backorder', 'sku', 'went_backorder_Prob']"
      ]
     },
     "execution_count": 41,
     "metadata": {},
     "output_type": "execute_result"
    }
   ],
   "source": [
    "cols = y_pred_final.columns.tolist()\n",
    "cols"
   ]
  },
  {
   "cell_type": "code",
   "execution_count": 42,
   "metadata": {},
   "outputs": [
    {
     "data": {
      "text/plain": [
       "['sku', 'went_on_backorder', 'went_backorder_Prob']"
      ]
     },
     "execution_count": 42,
     "metadata": {},
     "output_type": "execute_result"
    }
   ],
   "source": [
    "cols.insert(1, cols.pop(cols.index('went_on_backorder')))  ## 0 is the destination index , Mid is ur feature\n",
    "cols"
   ]
  },
  {
   "cell_type": "code",
   "execution_count": 43,
   "metadata": {},
   "outputs": [
    {
     "data": {
      "text/html": [
       "<div>\n",
       "<style scoped>\n",
       "    .dataframe tbody tr th:only-of-type {\n",
       "        vertical-align: middle;\n",
       "    }\n",
       "\n",
       "    .dataframe tbody tr th {\n",
       "        vertical-align: top;\n",
       "    }\n",
       "\n",
       "    .dataframe thead th {\n",
       "        text-align: right;\n",
       "    }\n",
       "</style>\n",
       "<table border=\"1\" class=\"dataframe\">\n",
       "  <thead>\n",
       "    <tr style=\"text-align: right;\">\n",
       "      <th></th>\n",
       "      <th>sku</th>\n",
       "      <th>went_on_backorder</th>\n",
       "      <th>went_backorder_Prob</th>\n",
       "    </tr>\n",
       "  </thead>\n",
       "  <tbody>\n",
       "    <tr>\n",
       "      <td>0</td>\n",
       "      <td>862938</td>\n",
       "      <td>1</td>\n",
       "      <td>0.99</td>\n",
       "    </tr>\n",
       "    <tr>\n",
       "      <td>1</td>\n",
       "      <td>876434</td>\n",
       "      <td>0</td>\n",
       "      <td>0.00</td>\n",
       "    </tr>\n",
       "    <tr>\n",
       "      <td>2</td>\n",
       "      <td>1216385</td>\n",
       "      <td>0</td>\n",
       "      <td>0.19</td>\n",
       "    </tr>\n",
       "    <tr>\n",
       "      <td>3</td>\n",
       "      <td>1169516</td>\n",
       "      <td>1</td>\n",
       "      <td>0.97</td>\n",
       "    </tr>\n",
       "    <tr>\n",
       "      <td>4</td>\n",
       "      <td>228081</td>\n",
       "      <td>1</td>\n",
       "      <td>0.88</td>\n",
       "    </tr>\n",
       "  </tbody>\n",
       "</table>\n",
       "</div>"
      ],
      "text/plain": [
       "       sku  went_on_backorder  went_backorder_Prob\n",
       "0   862938                  1                 0.99\n",
       "1   876434                  0                 0.00\n",
       "2  1216385                  0                 0.19\n",
       "3  1169516                  1                 0.97\n",
       "4   228081                  1                 0.88"
      ]
     },
     "execution_count": 43,
     "metadata": {},
     "output_type": "execute_result"
    }
   ],
   "source": [
    "y_pred_final = y_pred_final.reindex(columns= cols)\n",
    "y_pred_final.head()\n",
    "## Column reindex is performed "
   ]
  },
  {
   "cell_type": "code",
   "execution_count": 44,
   "metadata": {},
   "outputs": [],
   "source": [
    "# Creating new column 'predicted' with 1 if went_on_backorder >0.5 else 0\n",
    "y_pred_final['predicted'] = y_pred_final.went_backorder_Prob.map( lambda x: 1 if x > 0.5 else 0)"
   ]
  },
  {
   "cell_type": "code",
   "execution_count": 45,
   "metadata": {},
   "outputs": [
    {
     "data": {
      "text/html": [
       "<div>\n",
       "<style scoped>\n",
       "    .dataframe tbody tr th:only-of-type {\n",
       "        vertical-align: middle;\n",
       "    }\n",
       "\n",
       "    .dataframe tbody tr th {\n",
       "        vertical-align: top;\n",
       "    }\n",
       "\n",
       "    .dataframe thead th {\n",
       "        text-align: right;\n",
       "    }\n",
       "</style>\n",
       "<table border=\"1\" class=\"dataframe\">\n",
       "  <thead>\n",
       "    <tr style=\"text-align: right;\">\n",
       "      <th></th>\n",
       "      <th>sku</th>\n",
       "      <th>went_on_backorder</th>\n",
       "      <th>went_backorder_Prob</th>\n",
       "      <th>predicted</th>\n",
       "    </tr>\n",
       "  </thead>\n",
       "  <tbody>\n",
       "    <tr>\n",
       "      <td>0</td>\n",
       "      <td>862938</td>\n",
       "      <td>1</td>\n",
       "      <td>0.990000</td>\n",
       "      <td>1</td>\n",
       "    </tr>\n",
       "    <tr>\n",
       "      <td>1</td>\n",
       "      <td>876434</td>\n",
       "      <td>0</td>\n",
       "      <td>0.000000</td>\n",
       "      <td>0</td>\n",
       "    </tr>\n",
       "    <tr>\n",
       "      <td>2</td>\n",
       "      <td>1216385</td>\n",
       "      <td>0</td>\n",
       "      <td>0.190000</td>\n",
       "      <td>0</td>\n",
       "    </tr>\n",
       "    <tr>\n",
       "      <td>3</td>\n",
       "      <td>1169516</td>\n",
       "      <td>1</td>\n",
       "      <td>0.970000</td>\n",
       "      <td>1</td>\n",
       "    </tr>\n",
       "    <tr>\n",
       "      <td>4</td>\n",
       "      <td>228081</td>\n",
       "      <td>1</td>\n",
       "      <td>0.880000</td>\n",
       "      <td>1</td>\n",
       "    </tr>\n",
       "    <tr>\n",
       "      <td>...</td>\n",
       "      <td>...</td>\n",
       "      <td>...</td>\n",
       "      <td>...</td>\n",
       "      <td>...</td>\n",
       "    </tr>\n",
       "    <tr>\n",
       "      <td>6771</td>\n",
       "      <td>924516</td>\n",
       "      <td>1</td>\n",
       "      <td>0.900000</td>\n",
       "      <td>1</td>\n",
       "    </tr>\n",
       "    <tr>\n",
       "      <td>6772</td>\n",
       "      <td>94915</td>\n",
       "      <td>0</td>\n",
       "      <td>0.022857</td>\n",
       "      <td>0</td>\n",
       "    </tr>\n",
       "    <tr>\n",
       "      <td>6773</td>\n",
       "      <td>739108</td>\n",
       "      <td>0</td>\n",
       "      <td>0.000000</td>\n",
       "      <td>0</td>\n",
       "    </tr>\n",
       "    <tr>\n",
       "      <td>6774</td>\n",
       "      <td>1395287</td>\n",
       "      <td>0</td>\n",
       "      <td>1.000000</td>\n",
       "      <td>1</td>\n",
       "    </tr>\n",
       "    <tr>\n",
       "      <td>6775</td>\n",
       "      <td>756677</td>\n",
       "      <td>0</td>\n",
       "      <td>0.000000</td>\n",
       "      <td>0</td>\n",
       "    </tr>\n",
       "  </tbody>\n",
       "</table>\n",
       "<p>6776 rows × 4 columns</p>\n",
       "</div>"
      ],
      "text/plain": [
       "          sku  went_on_backorder  went_backorder_Prob  predicted\n",
       "0      862938                  1             0.990000          1\n",
       "1      876434                  0             0.000000          0\n",
       "2     1216385                  0             0.190000          0\n",
       "3     1169516                  1             0.970000          1\n",
       "4      228081                  1             0.880000          1\n",
       "...       ...                ...                  ...        ...\n",
       "6771   924516                  1             0.900000          1\n",
       "6772    94915                  0             0.022857          0\n",
       "6773   739108                  0             0.000000          0\n",
       "6774  1395287                  0             1.000000          1\n",
       "6775   756677                  0             0.000000          0\n",
       "\n",
       "[6776 rows x 4 columns]"
      ]
     },
     "execution_count": 45,
     "metadata": {},
     "output_type": "execute_result"
    }
   ],
   "source": [
    "y_pred_final"
   ]
  },
  {
   "cell_type": "code",
   "execution_count": 46,
   "metadata": {},
   "outputs": [],
   "source": [
    "from sklearn import metrics "
   ]
  },
  {
   "cell_type": "code",
   "execution_count": 47,
   "metadata": {},
   "outputs": [
    {
     "data": {
      "text/plain": [
       "array([[3000,  370],\n",
       "       [ 211, 3195]], dtype=int64)"
      ]
     },
     "execution_count": 47,
     "metadata": {},
     "output_type": "execute_result"
    }
   ],
   "source": [
    "# Confusion matrix \n",
    "confusion = metrics.confusion_matrix( y_pred_final.went_on_backorder, y_pred_final.predicted )\n",
    "confusion"
   ]
  },
  {
   "cell_type": "code",
   "execution_count": 48,
   "metadata": {},
   "outputs": [
    {
     "data": {
      "text/plain": [
       "Text(33.0, 0.5, 'Predicted label')"
      ]
     },
     "execution_count": 48,
     "metadata": {},
     "output_type": "execute_result"
    },
    {
     "data": {
      "image/png": "[encoded data removed]",
      "text/plain": [
       "<Figure size 432x288 with 2 Axes>"
      ]
     },
     "metadata": {
      "needs_background": "light"
     },
     "output_type": "display_data"
    }
   ],
   "source": [
    "#confusion matrix for default threshold\n",
    "\n",
    "cf_matrix = confusion_matrix(y_pred_final.went_on_backorder, y_pred_final.predicted)\n",
    "group_names = ['True Neg','False Pos','False Neg','True Pos']\n",
    "group_counts = [\"{0:0.0f}\".format(value) for value in\n",
    "                cf_matrix.flatten()]\n",
    "group_percentages = [\"{0:.2%}\".format(value) for value in\n",
    "                     cf_matrix.flatten()/np.sum(cf_matrix)]\n",
    "labels = [f'{v1}\\n{v2}\\n{v3}' for v1, v2, v3 in\n",
    "          zip(group_names,group_counts,group_percentages)]\n",
    "labels = np.asarray(labels).reshape(2,2)\n",
    "sns.heatmap(cf_matrix, annot=labels, fmt=\"\")\n",
    "#plt.xticks([2,0])\n",
    "plt.yticks([0,2])\n",
    "plt.title('Confusion matrix for default threshold')\n",
    "plt.xlabel('Actual label')\n",
    "plt.ylabel('Predicted label')"
   ]
  },
  {
   "cell_type": "code",
   "execution_count": 49,
   "metadata": {},
   "outputs": [
    {
     "name": "stdout",
     "output_type": "stream",
     "text": [
      "0.9142561983471075\n"
     ]
    }
   ],
   "source": [
    "Accuracy = metrics.accuracy_score(y_pred_final.went_on_backorder, y_pred_final.predicted)\n",
    "print(Accuracy)"
   ]
  },
  {
   "cell_type": "code",
   "execution_count": 50,
   "metadata": {},
   "outputs": [
    {
     "name": "stdout",
     "output_type": "stream",
     "text": [
      "              precision    recall  f1-score   support\n",
      "\n",
      "           0       0.93      0.89      0.91      3370\n",
      "           1       0.90      0.94      0.92      3406\n",
      "\n",
      "    accuracy                           0.91      6776\n",
      "   macro avg       0.92      0.91      0.91      6776\n",
      "weighted avg       0.92      0.91      0.91      6776\n",
      "\n"
     ]
    }
   ],
   "source": [
    "Classification = metrics.classification_report(y_pred_final.went_on_backorder, y_pred_final.predicted)\n",
    "print(Classification)"
   ]
  },
  {
   "cell_type": "markdown",
   "metadata": {},
   "source": [
    "### ROC Plot"
   ]
  },
  {
   "cell_type": "code",
   "execution_count": 51,
   "metadata": {},
   "outputs": [],
   "source": [
    "def draw_roc( actual, probs ):\n",
    "    fpr, tpr, thresholds = metrics.roc_curve( actual, probs,\n",
    "                                              drop_intermediate = False )\n",
    "    auc_score = metrics.roc_auc_score( actual, probs )\n",
    "    plt.figure(figsize=(6, 4))\n",
    "    plt.plot( fpr, tpr, label='ROC curve (area = %0.2f)' % auc_score )\n",
    "    plt.plot([0, 1], [0, 1], 'k--')\n",
    "    plt.xlim([0.0, 1.0])\n",
    "    plt.ylim([0.0, 1.05])\n",
    "    plt.xlabel('False Positive Rate or [1 - True Negative Rate]')\n",
    "    plt.ylabel('True Positive Rate')\n",
    "    plt.title('Receiver operating characteristic example')\n",
    "    plt.legend(loc=\"lower right\")\n",
    "    plt.show()\n",
    "\n",
    "    return fpr, tpr, thresholds"
   ]
  },
  {
   "cell_type": "code",
   "execution_count": 52,
   "metadata": {},
   "outputs": [],
   "source": [
    "def roc_auc(actual , probs):\n",
    "    fpr, tpr, thresholds = metrics.roc_curve( actual, probs,\n",
    "                                              drop_intermediate = False )\n",
    "    auc_score = metrics.roc_auc_score( actual, probs )\n",
    "    return auc_score"
   ]
  },
  {
   "cell_type": "code",
   "execution_count": 53,
   "metadata": {},
   "outputs": [
    {
     "data": {
      "image/png": "[encoded data removed]",
      "text/plain": [
       "<Figure size 432x288 with 1 Axes>"
      ]
     },
     "metadata": {
      "needs_background": "light"
     },
     "output_type": "display_data"
    },
    {
     "data": {
      "text/plain": [
       "(array([0.        , 0.10979228, 1.        ]),\n",
       " array([0.       , 0.9380505, 1.       ]),\n",
       " array([2, 1, 0], dtype=int64))"
      ]
     },
     "execution_count": 53,
     "metadata": {},
     "output_type": "execute_result"
    }
   ],
   "source": [
    "draw_roc(y_pred_final.went_on_backorder, y_pred_final.predicted)"
   ]
  },
  {
   "cell_type": "code",
   "execution_count": 54,
   "metadata": {},
   "outputs": [],
   "source": [
    "from sklearn.metrics import recall_score , precision_score , f1_score"
   ]
  },
  {
   "cell_type": "code",
   "execution_count": 55,
   "metadata": {},
   "outputs": [
    {
     "name": "stdout",
     "output_type": "stream",
     "text": [
      "The AUC score is : 91.41291071263663\n",
      "The Recall score is :  93.80504991192015\n",
      "The Precision score is :  89.62131837307152\n",
      "The f1 score is :  91.66547123798595\n"
     ]
    }
   ],
   "source": [
    "print(\"The AUC score is :\" , roc_auc(y_pred_final.went_on_backorder, y_pred_final.predicted) * 100)\n",
    "print(\"The Recall score is : \" , metrics.recall_score(y_pred_final.went_on_backorder, y_pred_final.predicted) * 100)\n",
    "print(\"The Precision score is : \" , metrics.precision_score(y_pred_final.went_on_backorder, y_pred_final.predicted) * 100)\n",
    "print(\"The f1 score is : \" , metrics.f1_score(y_pred_final.went_on_backorder, y_pred_final.predicted) * 100)"
   ]
  },
  {
   "cell_type": "code",
   "execution_count": 56,
   "metadata": {},
   "outputs": [
    {
     "name": "stdout",
     "output_type": "stream",
     "text": [
      "[[3000  370]\n",
      " [ 211 3195]]\n"
     ]
    }
   ],
   "source": [
    "print(confusion)"
   ]
  },
  {
   "cell_type": "code",
   "execution_count": 57,
   "metadata": {},
   "outputs": [
    {
     "data": {
      "text/plain": [
       "Text(33.0, 0.5, 'Predicted label')"
      ]
     },
     "execution_count": 57,
     "metadata": {},
     "output_type": "execute_result"
    },
    {
     "data": {
      "image/png": "[encoded data removed]",
      "text/plain": [
       "<Figure size 432x288 with 2 Axes>"
      ]
     },
     "metadata": {
      "needs_background": "light"
     },
     "output_type": "display_data"
    }
   ],
   "source": [
    "#confusion matrix for default threshold\n",
    "\n",
    "cf_matrix = confusion_matrix(y_pred_final.went_on_backorder, y_pred_final.predicted)\n",
    "group_names = ['True Neg','False Pos','False Neg','True Pos']\n",
    "group_counts = [\"{0:0.0f}\".format(value) for value in\n",
    "                cf_matrix.flatten()]\n",
    "group_percentages = [\"{0:.2%}\".format(value) for value in\n",
    "                     cf_matrix.flatten()/np.sum(cf_matrix)]\n",
    "labels = [f'{v1}\\n{v2}\\n{v3}' for v1, v2, v3 in\n",
    "          zip(group_names,group_counts,group_percentages)]\n",
    "labels = np.asarray(labels).reshape(2,2)\n",
    "sns.heatmap(cf_matrix, annot=labels, fmt=\"\")\n",
    "#plt.xticks([2,0])\n",
    "plt.yticks([0,2])\n",
    "plt.title('Confusion matrix for default threshold')\n",
    "plt.xlabel('Actual label')\n",
    "plt.ylabel('Predicted label')"
   ]
  },
  {
   "cell_type": "markdown",
   "metadata": {},
   "source": [
    "## Comparison"
   ]
  },
  {
   "cell_type": "markdown",
   "metadata": {},
   "source": [
    "##### ROC_AUC"
   ]
  },
  {
   "cell_type": "code",
   "execution_count": 68,
   "metadata": {},
   "outputs": [
    {
     "name": "stdout",
     "output_type": "stream",
     "text": [
      "The Training roc_auc score for Under Sampling is : 99.66440733021479\n",
      "The Testing roc_auc score for Under Sampling is : 91.41291071263663\n"
     ]
    }
   ],
   "source": [
    "#Training score\n",
    "from sklearn.metrics import roc_auc_score\n",
    "pred_train=rf.predict(x_under_train)\n",
    "\n",
    "print(\"The Training roc_auc score for Under Sampling is :\", roc_auc_score(y_under_train,pred_train)*100)\n",
    "print(\"The Testing roc_auc score for Under Sampling is :\", roc_auc_score(y_pred_final.went_on_backorder, y_pred_final.predicted)*100)"
   ]
  },
  {
   "cell_type": "markdown",
   "metadata": {},
   "source": [
    "##### PRECISION"
   ]
  },
  {
   "cell_type": "code",
   "execution_count": 69,
   "metadata": {},
   "outputs": [
    {
     "name": "stdout",
     "output_type": "stream",
     "text": [
      "The Training Precision score for Under Sampling is : 99.82192826252862\n",
      "The Testing Precision score for Under Sampling is : 89.62131837307152\n"
     ]
    }
   ],
   "source": [
    "print(\"The Training Precision score for Under Sampling is :\", precision_score(y_under_train,pred_train)*100)\n",
    "print(\"The Testing Precision score for Under Sampling is :\", precision_score(y_pred_final.went_on_backorder, y_pred_final.predicted)*100)"
   ]
  },
  {
   "cell_type": "markdown",
   "metadata": {},
   "source": [
    "##### RECALL"
   ]
  },
  {
   "cell_type": "code",
   "execution_count": 70,
   "metadata": {},
   "outputs": [
    {
     "name": "stdout",
     "output_type": "stream",
     "text": [
      "The Training Recall score for Under Sampling is : 99.505515405097\n",
      "The Testing Recall score for Under Sampling is : 93.80504991192015\n"
     ]
    }
   ],
   "source": [
    "print(\"The Training Recall score for Under Sampling is :\", recall_score(y_under_train,pred_train)*100)\n",
    "print(\"The Testing Recall score for Under Sampling is :\", recall_score(y_pred_final.went_on_backorder, y_pred_final.predicted)*100)"
   ]
  },
  {
   "cell_type": "markdown",
   "metadata": {},
   "source": [
    "##### F1"
   ]
  },
  {
   "cell_type": "code",
   "execution_count": 71,
   "metadata": {},
   "outputs": [
    {
     "name": "stdout",
     "output_type": "stream",
     "text": [
      "The Training F1 score for Under Sampling is : 99.66347069655217\n",
      "The Testing F1 score for Under Sampling is : 91.66547123798595\n"
     ]
    }
   ],
   "source": [
    "print(\"The Training F1 score for Under Sampling is :\", f1_score(y_under_train,pred_train)*100)\n",
    "print(\"The Testing F1 score for Under Sampling is :\", f1_score(y_pred_final.went_on_backorder, y_pred_final.predicted)*100)"
   ]
  },
  {
   "cell_type": "markdown",
   "metadata": {},
   "source": [
    "## Feature Importance"
   ]
  },
  {
   "cell_type": "code",
   "execution_count": 63,
   "metadata": {},
   "outputs": [
    {
     "data": {
      "image/png": "[encoded data removed]",
      "text/plain": [
       "<Figure size 864x576 with 1 Axes>"
      ]
     },
     "metadata": {
      "needs_background": "light"
     },
     "output_type": "display_data"
    }
   ],
   "source": [
    "# Calculate feature importances\n",
    "importances = rf.feature_importances_\n",
    "\n",
    "# Sort feature importances in descending order\n",
    "indices = np.argsort(importances)[::-1]\n",
    "\n",
    "# Rearrange feature names so they match the sorted feature importances\n",
    "names = [X_under.columns[i] for i in indices]\n",
    "\n",
    "# Barplot: Add bars\n",
    "plt.figure(figsize=(12,8))\n",
    "plt.bar(range(X_under.shape[1]), importances[indices] , color = \"orange\")\n",
    "# Add feature names as x-axis labels\n",
    "plt.xticks(range(X_under.shape[1]), names, rotation=90, fontsize = 8)\n",
    "\n",
    "# Create plot title\n",
    "plt.title(\"Feature Importance for Under Sampling\")\n",
    "# Show plot\n",
    "plt.xlabel(\"Features\")\n",
    "plt.ylabel(\"Proportion\")\n",
    "plt.show()"
   ]
  },
  {
   "cell_type": "markdown",
   "metadata": {},
   "source": [
    "## Insights \n",
    "    \n",
    "\n",
    "    * Here False negatives are 211, this impacts recall. Making it 93.8 %\n",
    "    * As per the feature importance plot, Inventory plays a vital role. \n",
    "    * More than 20% importance was given to national inventory by the algorithm.\n",
    "    * This indicates that national inventory has a huge impact on predicting if the prodcut goes to backorder or not.\n",
    "    * Subsequently, there are other features to which the algorithm has given importance.\n",
    "    * if we consider the right part of the plot, we have production related features which are not that important as per the        algorithm.\n",
    "       \n",
    "    "
   ]
  },
  {
   "cell_type": "markdown",
   "metadata": {},
   "source": [
    "--------------------------------------------------------------------------------------------------------------------------------"
   ]
  },
  {
   "cell_type": "markdown",
   "metadata": {},
   "source": [
    "# 2. Over Sampling"
   ]
  },
  {
   "cell_type": "markdown",
   "metadata": {},
   "source": [
    "The process of increasing the class instances of the MINORITY class is called Oversampling. \n",
    "\n",
    "#### Disadvantage\n",
    "     * It will cause OVERFITTING as we are increasing the samples of the minority class.."
   ]
  },
  {
   "cell_type": "markdown",
   "metadata": {},
   "source": [
    "### 1 - Backorder (Minority Class)\n",
    "\n",
    "### 0  - Not Backorder (Majority Class)"
   ]
  },
  {
   "cell_type": "code",
   "execution_count": 72,
   "metadata": {},
   "outputs": [],
   "source": [
    "BO_sample = df[df['went_on_backorder']==1].sample(number_not_bo, replace=True)"
   ]
  },
  {
   "cell_type": "code",
   "execution_count": 73,
   "metadata": {},
   "outputs": [],
   "source": [
    "#create a new dataframe containing only non-fraud data\n",
    "df_not_BO = df[df['went_on_backorder']==0]"
   ]
  },
  {
   "cell_type": "code",
   "execution_count": 74,
   "metadata": {},
   "outputs": [],
   "source": [
    "over_sample_df = pd.concat([BO_sample,df_not_BO], axis=0)"
   ]
  },
  {
   "cell_type": "code",
   "execution_count": 75,
   "metadata": {},
   "outputs": [
    {
     "data": {
      "text/html": [
       "<div>\n",
       "<style scoped>\n",
       "    .dataframe tbody tr th:only-of-type {\n",
       "        vertical-align: middle;\n",
       "    }\n",
       "\n",
       "    .dataframe tbody tr th {\n",
       "        vertical-align: top;\n",
       "    }\n",
       "\n",
       "    .dataframe thead th {\n",
       "        text-align: right;\n",
       "    }\n",
       "</style>\n",
       "<table border=\"1\" class=\"dataframe\">\n",
       "  <thead>\n",
       "    <tr style=\"text-align: right;\">\n",
       "      <th></th>\n",
       "      <th>sku</th>\n",
       "      <th>national_inv</th>\n",
       "      <th>lead_time</th>\n",
       "      <th>in_transit_qty</th>\n",
       "      <th>forecast_3_month</th>\n",
       "      <th>forecast_6_month</th>\n",
       "      <th>forecast_9_month</th>\n",
       "      <th>sales_1_month</th>\n",
       "      <th>sales_3_month</th>\n",
       "      <th>sales_6_month</th>\n",
       "      <th>sales_9_month</th>\n",
       "      <th>min_bank</th>\n",
       "      <th>potential_issue</th>\n",
       "      <th>pieces_past_due</th>\n",
       "      <th>perf_6_month_avg</th>\n",
       "      <th>perf_12_month_avg</th>\n",
       "      <th>local_bo_qty</th>\n",
       "      <th>deck_risk</th>\n",
       "      <th>oe_constraint</th>\n",
       "      <th>ppap_risk</th>\n",
       "      <th>stop_auto_buy</th>\n",
       "      <th>rev_stop</th>\n",
       "      <th>went_on_backorder</th>\n",
       "    </tr>\n",
       "  </thead>\n",
       "  <tbody>\n",
       "    <tr>\n",
       "      <td>878891</td>\n",
       "      <td>2226873</td>\n",
       "      <td>1.0</td>\n",
       "      <td>8.0</td>\n",
       "      <td>0.0</td>\n",
       "      <td>29.0</td>\n",
       "      <td>29.0</td>\n",
       "      <td>35.0</td>\n",
       "      <td>5.0</td>\n",
       "      <td>6.0</td>\n",
       "      <td>17.0</td>\n",
       "      <td>26.0</td>\n",
       "      <td>0.0</td>\n",
       "      <td>0</td>\n",
       "      <td>0.0</td>\n",
       "      <td>0.99</td>\n",
       "      <td>0.97</td>\n",
       "      <td>0.0</td>\n",
       "      <td>0</td>\n",
       "      <td>0</td>\n",
       "      <td>0</td>\n",
       "      <td>1</td>\n",
       "      <td>0</td>\n",
       "      <td>1</td>\n",
       "    </tr>\n",
       "    <tr>\n",
       "      <td>1331878</td>\n",
       "      <td>2917141</td>\n",
       "      <td>0.0</td>\n",
       "      <td>8.0</td>\n",
       "      <td>1.0</td>\n",
       "      <td>9.0</td>\n",
       "      <td>13.0</td>\n",
       "      <td>17.0</td>\n",
       "      <td>0.0</td>\n",
       "      <td>11.0</td>\n",
       "      <td>13.0</td>\n",
       "      <td>13.0</td>\n",
       "      <td>0.0</td>\n",
       "      <td>0</td>\n",
       "      <td>0.0</td>\n",
       "      <td>0.79</td>\n",
       "      <td>0.87</td>\n",
       "      <td>0.0</td>\n",
       "      <td>0</td>\n",
       "      <td>0</td>\n",
       "      <td>0</td>\n",
       "      <td>1</td>\n",
       "      <td>0</td>\n",
       "      <td>1</td>\n",
       "    </tr>\n",
       "    <tr>\n",
       "      <td>36938</td>\n",
       "      <td>1148427</td>\n",
       "      <td>0.0</td>\n",
       "      <td>2.0</td>\n",
       "      <td>0.0</td>\n",
       "      <td>56.0</td>\n",
       "      <td>107.0</td>\n",
       "      <td>162.0</td>\n",
       "      <td>0.0</td>\n",
       "      <td>0.0</td>\n",
       "      <td>0.0</td>\n",
       "      <td>0.0</td>\n",
       "      <td>0.0</td>\n",
       "      <td>0</td>\n",
       "      <td>0.0</td>\n",
       "      <td>1.00</td>\n",
       "      <td>0.99</td>\n",
       "      <td>0.0</td>\n",
       "      <td>1</td>\n",
       "      <td>0</td>\n",
       "      <td>1</td>\n",
       "      <td>1</td>\n",
       "      <td>0</td>\n",
       "      <td>1</td>\n",
       "    </tr>\n",
       "    <tr>\n",
       "      <td>822039</td>\n",
       "      <td>2170000</td>\n",
       "      <td>0.0</td>\n",
       "      <td>14.0</td>\n",
       "      <td>0.0</td>\n",
       "      <td>12.0</td>\n",
       "      <td>12.0</td>\n",
       "      <td>12.0</td>\n",
       "      <td>0.0</td>\n",
       "      <td>0.0</td>\n",
       "      <td>1.0</td>\n",
       "      <td>3.0</td>\n",
       "      <td>0.0</td>\n",
       "      <td>0</td>\n",
       "      <td>0.0</td>\n",
       "      <td>0.46</td>\n",
       "      <td>0.38</td>\n",
       "      <td>0.0</td>\n",
       "      <td>0</td>\n",
       "      <td>0</td>\n",
       "      <td>0</td>\n",
       "      <td>1</td>\n",
       "      <td>0</td>\n",
       "      <td>1</td>\n",
       "    </tr>\n",
       "    <tr>\n",
       "      <td>230120</td>\n",
       "      <td>1341680</td>\n",
       "      <td>7.0</td>\n",
       "      <td>2.0</td>\n",
       "      <td>0.0</td>\n",
       "      <td>10.0</td>\n",
       "      <td>20.0</td>\n",
       "      <td>40.0</td>\n",
       "      <td>8.0</td>\n",
       "      <td>15.0</td>\n",
       "      <td>25.0</td>\n",
       "      <td>31.0</td>\n",
       "      <td>0.0</td>\n",
       "      <td>0</td>\n",
       "      <td>0.0</td>\n",
       "      <td>0.98</td>\n",
       "      <td>0.90</td>\n",
       "      <td>0.0</td>\n",
       "      <td>0</td>\n",
       "      <td>0</td>\n",
       "      <td>0</td>\n",
       "      <td>1</td>\n",
       "      <td>0</td>\n",
       "      <td>1</td>\n",
       "    </tr>\n",
       "    <tr>\n",
       "      <td>...</td>\n",
       "      <td>...</td>\n",
       "      <td>...</td>\n",
       "      <td>...</td>\n",
       "      <td>...</td>\n",
       "      <td>...</td>\n",
       "      <td>...</td>\n",
       "      <td>...</td>\n",
       "      <td>...</td>\n",
       "      <td>...</td>\n",
       "      <td>...</td>\n",
       "      <td>...</td>\n",
       "      <td>...</td>\n",
       "      <td>...</td>\n",
       "      <td>...</td>\n",
       "      <td>...</td>\n",
       "      <td>...</td>\n",
       "      <td>...</td>\n",
       "      <td>...</td>\n",
       "      <td>...</td>\n",
       "      <td>...</td>\n",
       "      <td>...</td>\n",
       "      <td>...</td>\n",
       "      <td>...</td>\n",
       "    </tr>\n",
       "    <tr>\n",
       "      <td>1687854</td>\n",
       "      <td>1392420</td>\n",
       "      <td>124.0</td>\n",
       "      <td>8.0</td>\n",
       "      <td>140.0</td>\n",
       "      <td>410.0</td>\n",
       "      <td>780.0</td>\n",
       "      <td>1240.0</td>\n",
       "      <td>128.0</td>\n",
       "      <td>464.0</td>\n",
       "      <td>849.0</td>\n",
       "      <td>1074.0</td>\n",
       "      <td>111.0</td>\n",
       "      <td>0</td>\n",
       "      <td>0.0</td>\n",
       "      <td>0.85</td>\n",
       "      <td>0.90</td>\n",
       "      <td>1.0</td>\n",
       "      <td>0</td>\n",
       "      <td>0</td>\n",
       "      <td>0</td>\n",
       "      <td>1</td>\n",
       "      <td>0</td>\n",
       "      <td>0</td>\n",
       "    </tr>\n",
       "    <tr>\n",
       "      <td>1687855</td>\n",
       "      <td>1407754</td>\n",
       "      <td>0.0</td>\n",
       "      <td>2.0</td>\n",
       "      <td>0.0</td>\n",
       "      <td>10.0</td>\n",
       "      <td>10.0</td>\n",
       "      <td>10.0</td>\n",
       "      <td>0.0</td>\n",
       "      <td>5.0</td>\n",
       "      <td>7.0</td>\n",
       "      <td>7.0</td>\n",
       "      <td>0.0</td>\n",
       "      <td>0</td>\n",
       "      <td>0.0</td>\n",
       "      <td>0.69</td>\n",
       "      <td>0.69</td>\n",
       "      <td>5.0</td>\n",
       "      <td>1</td>\n",
       "      <td>0</td>\n",
       "      <td>0</td>\n",
       "      <td>1</td>\n",
       "      <td>0</td>\n",
       "      <td>0</td>\n",
       "    </tr>\n",
       "    <tr>\n",
       "      <td>1687856</td>\n",
       "      <td>1373987</td>\n",
       "      <td>-1.0</td>\n",
       "      <td>8.0</td>\n",
       "      <td>0.0</td>\n",
       "      <td>5.0</td>\n",
       "      <td>7.0</td>\n",
       "      <td>9.0</td>\n",
       "      <td>1.0</td>\n",
       "      <td>3.0</td>\n",
       "      <td>3.0</td>\n",
       "      <td>8.0</td>\n",
       "      <td>0.0</td>\n",
       "      <td>0</td>\n",
       "      <td>0.0</td>\n",
       "      <td>0.85</td>\n",
       "      <td>0.83</td>\n",
       "      <td>1.0</td>\n",
       "      <td>0</td>\n",
       "      <td>0</td>\n",
       "      <td>0</td>\n",
       "      <td>1</td>\n",
       "      <td>0</td>\n",
       "      <td>0</td>\n",
       "    </tr>\n",
       "    <tr>\n",
       "      <td>1687858</td>\n",
       "      <td>1439563</td>\n",
       "      <td>62.0</td>\n",
       "      <td>9.0</td>\n",
       "      <td>16.0</td>\n",
       "      <td>39.0</td>\n",
       "      <td>87.0</td>\n",
       "      <td>126.0</td>\n",
       "      <td>35.0</td>\n",
       "      <td>63.0</td>\n",
       "      <td>153.0</td>\n",
       "      <td>205.0</td>\n",
       "      <td>12.0</td>\n",
       "      <td>0</td>\n",
       "      <td>0.0</td>\n",
       "      <td>0.86</td>\n",
       "      <td>0.84</td>\n",
       "      <td>6.0</td>\n",
       "      <td>0</td>\n",
       "      <td>0</td>\n",
       "      <td>0</td>\n",
       "      <td>1</td>\n",
       "      <td>0</td>\n",
       "      <td>0</td>\n",
       "    </tr>\n",
       "    <tr>\n",
       "      <td>1687859</td>\n",
       "      <td>1502009</td>\n",
       "      <td>19.0</td>\n",
       "      <td>4.0</td>\n",
       "      <td>0.0</td>\n",
       "      <td>0.0</td>\n",
       "      <td>0.0</td>\n",
       "      <td>0.0</td>\n",
       "      <td>2.0</td>\n",
       "      <td>7.0</td>\n",
       "      <td>12.0</td>\n",
       "      <td>20.0</td>\n",
       "      <td>1.0</td>\n",
       "      <td>0</td>\n",
       "      <td>0.0</td>\n",
       "      <td>0.73</td>\n",
       "      <td>0.78</td>\n",
       "      <td>1.0</td>\n",
       "      <td>0</td>\n",
       "      <td>0</td>\n",
       "      <td>0</td>\n",
       "      <td>1</td>\n",
       "      <td>0</td>\n",
       "      <td>0</td>\n",
       "    </tr>\n",
       "  </tbody>\n",
       "</table>\n",
       "<p>3353134 rows × 23 columns</p>\n",
       "</div>"
      ],
      "text/plain": [
       "             sku  national_inv  lead_time  in_transit_qty  forecast_3_month  \\\n",
       "878891   2226873           1.0        8.0             0.0              29.0   \n",
       "1331878  2917141           0.0        8.0             1.0               9.0   \n",
       "36938    1148427           0.0        2.0             0.0              56.0   \n",
       "822039   2170000           0.0       14.0             0.0              12.0   \n",
       "230120   1341680           7.0        2.0             0.0              10.0   \n",
       "...          ...           ...        ...             ...               ...   \n",
       "1687854  1392420         124.0        8.0           140.0             410.0   \n",
       "1687855  1407754           0.0        2.0             0.0              10.0   \n",
       "1687856  1373987          -1.0        8.0             0.0               5.0   \n",
       "1687858  1439563          62.0        9.0            16.0              39.0   \n",
       "1687859  1502009          19.0        4.0             0.0               0.0   \n",
       "\n",
       "         forecast_6_month  forecast_9_month  sales_1_month  sales_3_month  \\\n",
       "878891               29.0              35.0            5.0            6.0   \n",
       "1331878              13.0              17.0            0.0           11.0   \n",
       "36938               107.0             162.0            0.0            0.0   \n",
       "822039               12.0              12.0            0.0            0.0   \n",
       "230120               20.0              40.0            8.0           15.0   \n",
       "...                   ...               ...            ...            ...   \n",
       "1687854             780.0            1240.0          128.0          464.0   \n",
       "1687855              10.0              10.0            0.0            5.0   \n",
       "1687856               7.0               9.0            1.0            3.0   \n",
       "1687858              87.0             126.0           35.0           63.0   \n",
       "1687859               0.0               0.0            2.0            7.0   \n",
       "\n",
       "         sales_6_month  sales_9_month  min_bank  potential_issue  \\\n",
       "878891            17.0           26.0       0.0                0   \n",
       "1331878           13.0           13.0       0.0                0   \n",
       "36938              0.0            0.0       0.0                0   \n",
       "822039             1.0            3.0       0.0                0   \n",
       "230120            25.0           31.0       0.0                0   \n",
       "...                ...            ...       ...              ...   \n",
       "1687854          849.0         1074.0     111.0                0   \n",
       "1687855            7.0            7.0       0.0                0   \n",
       "1687856            3.0            8.0       0.0                0   \n",
       "1687858          153.0          205.0      12.0                0   \n",
       "1687859           12.0           20.0       1.0                0   \n",
       "\n",
       "         pieces_past_due  perf_6_month_avg  perf_12_month_avg  local_bo_qty  \\\n",
       "878891               0.0              0.99               0.97           0.0   \n",
       "1331878              0.0              0.79               0.87           0.0   \n",
       "36938                0.0              1.00               0.99           0.0   \n",
       "822039               0.0              0.46               0.38           0.0   \n",
       "230120               0.0              0.98               0.90           0.0   \n",
       "...                  ...               ...                ...           ...   \n",
       "1687854              0.0              0.85               0.90           1.0   \n",
       "1687855              0.0              0.69               0.69           5.0   \n",
       "1687856              0.0              0.85               0.83           1.0   \n",
       "1687858              0.0              0.86               0.84           6.0   \n",
       "1687859              0.0              0.73               0.78           1.0   \n",
       "\n",
       "         deck_risk  oe_constraint  ppap_risk  stop_auto_buy  rev_stop  \\\n",
       "878891           0              0          0              1         0   \n",
       "1331878          0              0          0              1         0   \n",
       "36938            1              0          1              1         0   \n",
       "822039           0              0          0              1         0   \n",
       "230120           0              0          0              1         0   \n",
       "...            ...            ...        ...            ...       ...   \n",
       "1687854          0              0          0              1         0   \n",
       "1687855          1              0          0              1         0   \n",
       "1687856          0              0          0              1         0   \n",
       "1687858          0              0          0              1         0   \n",
       "1687859          0              0          0              1         0   \n",
       "\n",
       "         went_on_backorder  \n",
       "878891                   1  \n",
       "1331878                  1  \n",
       "36938                    1  \n",
       "822039                   1  \n",
       "230120                   1  \n",
       "...                    ...  \n",
       "1687854                  0  \n",
       "1687855                  0  \n",
       "1687856                  0  \n",
       "1687858                  0  \n",
       "1687859                  0  \n",
       "\n",
       "[3353134 rows x 23 columns]"
      ]
     },
     "execution_count": 75,
     "metadata": {},
     "output_type": "execute_result"
    }
   ],
   "source": [
    "over_sample_df"
   ]
  },
  {
   "cell_type": "code",
   "execution_count": 76,
   "metadata": {},
   "outputs": [],
   "source": [
    "over_sample_wen_on_BO_counts=pd.value_counts(over_sample_df['went_on_backorder'])"
   ]
  },
  {
   "cell_type": "code",
   "execution_count": 77,
   "metadata": {},
   "outputs": [
    {
     "data": {
      "text/plain": [
       "Counter({1: 1676567, 0: 1676567})"
      ]
     },
     "execution_count": 77,
     "metadata": {},
     "output_type": "execute_result"
    }
   ],
   "source": [
    "Counter(over_sample_df[\"went_on_backorder\"])"
   ]
  },
  {
   "cell_type": "code",
   "execution_count": 78,
   "metadata": {},
   "outputs": [
    {
     "data": {
      "text/plain": [
       "<matplotlib.axes._subplots.AxesSubplot at 0x1d990f5b6c8>"
      ]
     },
     "execution_count": 78,
     "metadata": {},
     "output_type": "execute_result"
    },
    {
     "data": {
      "image/png": "[encoded data removed]",
      "text/plain": [
       "<Figure size 432x288 with 1 Axes>"
      ]
     },
     "metadata": {
      "needs_background": "light"
     },
     "output_type": "display_data"
    }
   ],
   "source": [
    "over_sample_wen_on_BO_counts.plot(kind='bar')"
   ]
  },
  {
   "cell_type": "markdown",
   "metadata": {},
   "source": [
    "##### Now that our data is balanced , we can split the data to X , y, Train and test"
   ]
  },
  {
   "cell_type": "code",
   "execution_count": 80,
   "metadata": {},
   "outputs": [],
   "source": [
    "X_over = over_sample_df.drop([\"sku\" , \"went_on_backorder\"] , 1)\n",
    "y_over = over_sample_df[\"went_on_backorder\"]"
   ]
  },
  {
   "cell_type": "code",
   "execution_count": 81,
   "metadata": {},
   "outputs": [],
   "source": [
    "x_over_train, x_over_test, y_over_train, y_over_test = train_test_split(X_over, y_over, test_size=0.30, random_state=100)"
   ]
  },
  {
   "cell_type": "markdown",
   "metadata": {},
   "source": [
    "### Random Forest "
   ]
  },
  {
   "cell_type": "code",
   "execution_count": 82,
   "metadata": {},
   "outputs": [],
   "source": [
    "from sklearn.metrics import accuracy_score, f1_score,confusion_matrix,classification_report,roc_auc_score,roc_curve,auc\n",
    "from sklearn.model_selection import KFold\n",
    "from sklearn.model_selection import GridSearchCV\n",
    "from sklearn.model_selection import train_test_split\n",
    "from sklearn.model_selection import cross_val_score\n",
    "\n",
    "from sklearn.ensemble import RandomForestClassifier"
   ]
  },
  {
   "cell_type": "code",
   "execution_count": 83,
   "metadata": {},
   "outputs": [
    {
     "data": {
      "text/plain": [
       "RandomForestClassifier()"
      ]
     },
     "execution_count": 83,
     "metadata": {},
     "output_type": "execute_result"
    }
   ],
   "source": [
    "# Let's run the model\n",
    "\n",
    "rf = RandomForestClassifier()\n",
    "rf.fit(x_over_train, y_over_train)"
   ]
  },
  {
   "cell_type": "markdown",
   "metadata": {},
   "source": [
    "#### Random Forest Prediction"
   ]
  },
  {
   "cell_type": "code",
   "execution_count": 84,
   "metadata": {},
   "outputs": [],
   "source": [
    "# Predicted probabilities\n",
    "y_pred = rf.predict_proba(x_over_test)"
   ]
  },
  {
   "cell_type": "code",
   "execution_count": 85,
   "metadata": {},
   "outputs": [],
   "source": [
    "# Converting y_pred to a dataframe which is an array\n",
    "y_pred_df = pd.DataFrame(y_pred)"
   ]
  },
  {
   "cell_type": "code",
   "execution_count": 86,
   "metadata": {},
   "outputs": [],
   "source": [
    "# Converting to column dataframe (keeping the outcome of 1)\n",
    "y_pred_1 = y_pred_df.iloc[:,[1]]"
   ]
  },
  {
   "cell_type": "code",
   "execution_count": 87,
   "metadata": {},
   "outputs": [],
   "source": [
    "# Converting y_test to dataframe\n",
    "y_test_df = pd.DataFrame(y_over_test)"
   ]
  },
  {
   "cell_type": "code",
   "execution_count": 88,
   "metadata": {},
   "outputs": [],
   "source": [
    "# Putting sku to index\n",
    "y_test_df['sku'] = y_test_df.index"
   ]
  },
  {
   "cell_type": "code",
   "execution_count": 89,
   "metadata": {},
   "outputs": [],
   "source": [
    "# Removing index for both dataframes to append them side by side \n",
    "y_pred_1.reset_index(drop=True, inplace=True)\n",
    "y_test_df.reset_index(drop=True, inplace=True)"
   ]
  },
  {
   "cell_type": "code",
   "execution_count": 90,
   "metadata": {},
   "outputs": [],
   "source": [
    "# Appending y_test_df and y_pred_1\n",
    "\n",
    "y_pred_final = pd.concat([y_test_df,y_pred_1],axis=1)"
   ]
  },
  {
   "cell_type": "code",
   "execution_count": 91,
   "metadata": {},
   "outputs": [],
   "source": [
    "# Renaming the column \n",
    "y_pred_final= y_pred_final.rename(columns={ 1 : 'went_backorder_Prob'})"
   ]
  },
  {
   "cell_type": "code",
   "execution_count": 92,
   "metadata": {},
   "outputs": [
    {
     "data": {
      "text/plain": [
       "['went_on_backorder', 'sku', 'went_backorder_Prob']"
      ]
     },
     "execution_count": 92,
     "metadata": {},
     "output_type": "execute_result"
    }
   ],
   "source": [
    "cols = y_pred_final.columns.tolist()\n",
    "cols"
   ]
  },
  {
   "cell_type": "code",
   "execution_count": 93,
   "metadata": {},
   "outputs": [
    {
     "data": {
      "text/plain": [
       "['sku', 'went_on_backorder', 'went_backorder_Prob']"
      ]
     },
     "execution_count": 93,
     "metadata": {},
     "output_type": "execute_result"
    }
   ],
   "source": [
    "cols.insert(1, cols.pop(cols.index('went_on_backorder')))  ## 0 is the destination index , Mid is ur feature\n",
    "cols"
   ]
  },
  {
   "cell_type": "code",
   "execution_count": 94,
   "metadata": {},
   "outputs": [
    {
     "data": {
      "text/html": [
       "<div>\n",
       "<style scoped>\n",
       "    .dataframe tbody tr th:only-of-type {\n",
       "        vertical-align: middle;\n",
       "    }\n",
       "\n",
       "    .dataframe tbody tr th {\n",
       "        vertical-align: top;\n",
       "    }\n",
       "\n",
       "    .dataframe thead th {\n",
       "        text-align: right;\n",
       "    }\n",
       "</style>\n",
       "<table border=\"1\" class=\"dataframe\">\n",
       "  <thead>\n",
       "    <tr style=\"text-align: right;\">\n",
       "      <th></th>\n",
       "      <th>sku</th>\n",
       "      <th>went_on_backorder</th>\n",
       "      <th>went_backorder_Prob</th>\n",
       "    </tr>\n",
       "  </thead>\n",
       "  <tbody>\n",
       "    <tr>\n",
       "      <td>0</td>\n",
       "      <td>330027</td>\n",
       "      <td>0</td>\n",
       "      <td>0.00</td>\n",
       "    </tr>\n",
       "    <tr>\n",
       "      <td>1</td>\n",
       "      <td>1678400</td>\n",
       "      <td>0</td>\n",
       "      <td>0.01</td>\n",
       "    </tr>\n",
       "    <tr>\n",
       "      <td>2</td>\n",
       "      <td>1214430</td>\n",
       "      <td>1</td>\n",
       "      <td>1.00</td>\n",
       "    </tr>\n",
       "    <tr>\n",
       "      <td>3</td>\n",
       "      <td>1627106</td>\n",
       "      <td>0</td>\n",
       "      <td>0.00</td>\n",
       "    </tr>\n",
       "    <tr>\n",
       "      <td>4</td>\n",
       "      <td>732943</td>\n",
       "      <td>0</td>\n",
       "      <td>0.00</td>\n",
       "    </tr>\n",
       "  </tbody>\n",
       "</table>\n",
       "</div>"
      ],
      "text/plain": [
       "       sku  went_on_backorder  went_backorder_Prob\n",
       "0   330027                  0                 0.00\n",
       "1  1678400                  0                 0.01\n",
       "2  1214430                  1                 1.00\n",
       "3  1627106                  0                 0.00\n",
       "4   732943                  0                 0.00"
      ]
     },
     "execution_count": 94,
     "metadata": {},
     "output_type": "execute_result"
    }
   ],
   "source": [
    "y_pred_final = y_pred_final.reindex(columns= cols)\n",
    "y_pred_final.head()\n",
    "## Column reindex is performed "
   ]
  },
  {
   "cell_type": "code",
   "execution_count": 95,
   "metadata": {},
   "outputs": [],
   "source": [
    "# Creating new column 'predicted' with 1 if went_on_backorder >0.5 else 0\n",
    "y_pred_final['predicted'] = y_pred_final.went_backorder_Prob.map( lambda x: 1 if x > 0.5 else 0)"
   ]
  },
  {
   "cell_type": "code",
   "execution_count": 96,
   "metadata": {},
   "outputs": [
    {
     "data": {
      "text/html": [
       "<div>\n",
       "<style scoped>\n",
       "    .dataframe tbody tr th:only-of-type {\n",
       "        vertical-align: middle;\n",
       "    }\n",
       "\n",
       "    .dataframe tbody tr th {\n",
       "        vertical-align: top;\n",
       "    }\n",
       "\n",
       "    .dataframe thead th {\n",
       "        text-align: right;\n",
       "    }\n",
       "</style>\n",
       "<table border=\"1\" class=\"dataframe\">\n",
       "  <thead>\n",
       "    <tr style=\"text-align: right;\">\n",
       "      <th></th>\n",
       "      <th>sku</th>\n",
       "      <th>went_on_backorder</th>\n",
       "      <th>went_backorder_Prob</th>\n",
       "      <th>predicted</th>\n",
       "    </tr>\n",
       "  </thead>\n",
       "  <tbody>\n",
       "    <tr>\n",
       "      <td>0</td>\n",
       "      <td>330027</td>\n",
       "      <td>0</td>\n",
       "      <td>0.00</td>\n",
       "      <td>0</td>\n",
       "    </tr>\n",
       "    <tr>\n",
       "      <td>1</td>\n",
       "      <td>1678400</td>\n",
       "      <td>0</td>\n",
       "      <td>0.01</td>\n",
       "      <td>0</td>\n",
       "    </tr>\n",
       "    <tr>\n",
       "      <td>2</td>\n",
       "      <td>1214430</td>\n",
       "      <td>1</td>\n",
       "      <td>1.00</td>\n",
       "      <td>1</td>\n",
       "    </tr>\n",
       "    <tr>\n",
       "      <td>3</td>\n",
       "      <td>1627106</td>\n",
       "      <td>0</td>\n",
       "      <td>0.00</td>\n",
       "      <td>0</td>\n",
       "    </tr>\n",
       "    <tr>\n",
       "      <td>4</td>\n",
       "      <td>732943</td>\n",
       "      <td>0</td>\n",
       "      <td>0.00</td>\n",
       "      <td>0</td>\n",
       "    </tr>\n",
       "    <tr>\n",
       "      <td>...</td>\n",
       "      <td>...</td>\n",
       "      <td>...</td>\n",
       "      <td>...</td>\n",
       "      <td>...</td>\n",
       "    </tr>\n",
       "    <tr>\n",
       "      <td>1005936</td>\n",
       "      <td>1453917</td>\n",
       "      <td>0</td>\n",
       "      <td>0.00</td>\n",
       "      <td>0</td>\n",
       "    </tr>\n",
       "    <tr>\n",
       "      <td>1005937</td>\n",
       "      <td>384689</td>\n",
       "      <td>0</td>\n",
       "      <td>0.00</td>\n",
       "      <td>0</td>\n",
       "    </tr>\n",
       "    <tr>\n",
       "      <td>1005938</td>\n",
       "      <td>339839</td>\n",
       "      <td>1</td>\n",
       "      <td>1.00</td>\n",
       "      <td>1</td>\n",
       "    </tr>\n",
       "    <tr>\n",
       "      <td>1005939</td>\n",
       "      <td>211619</td>\n",
       "      <td>1</td>\n",
       "      <td>1.00</td>\n",
       "      <td>1</td>\n",
       "    </tr>\n",
       "    <tr>\n",
       "      <td>1005940</td>\n",
       "      <td>1577419</td>\n",
       "      <td>1</td>\n",
       "      <td>1.00</td>\n",
       "      <td>1</td>\n",
       "    </tr>\n",
       "  </tbody>\n",
       "</table>\n",
       "<p>1005941 rows × 4 columns</p>\n",
       "</div>"
      ],
      "text/plain": [
       "             sku  went_on_backorder  went_backorder_Prob  predicted\n",
       "0         330027                  0                 0.00          0\n",
       "1        1678400                  0                 0.01          0\n",
       "2        1214430                  1                 1.00          1\n",
       "3        1627106                  0                 0.00          0\n",
       "4         732943                  0                 0.00          0\n",
       "...          ...                ...                  ...        ...\n",
       "1005936  1453917                  0                 0.00          0\n",
       "1005937   384689                  0                 0.00          0\n",
       "1005938   339839                  1                 1.00          1\n",
       "1005939   211619                  1                 1.00          1\n",
       "1005940  1577419                  1                 1.00          1\n",
       "\n",
       "[1005941 rows x 4 columns]"
      ]
     },
     "execution_count": 96,
     "metadata": {},
     "output_type": "execute_result"
    }
   ],
   "source": [
    "y_pred_final"
   ]
  },
  {
   "cell_type": "code",
   "execution_count": 97,
   "metadata": {},
   "outputs": [
    {
     "data": {
      "text/plain": [
       "array([[500512,   2193],\n",
       "       [  1977, 501259]], dtype=int64)"
      ]
     },
     "execution_count": 97,
     "metadata": {},
     "output_type": "execute_result"
    }
   ],
   "source": [
    "# Confusion matrix \n",
    "confusion = metrics.confusion_matrix( y_pred_final.went_on_backorder, y_pred_final.predicted )\n",
    "confusion"
   ]
  },
  {
   "cell_type": "code",
   "execution_count": 98,
   "metadata": {},
   "outputs": [
    {
     "data": {
      "text/plain": [
       "Text(33.0, 0.5, 'Predicted label')"
      ]
     },
     "execution_count": 98,
     "metadata": {},
     "output_type": "execute_result"
    },
    {
     "data": {
      "image/png": "[encoded data removed]",
      "text/plain": [
       "<Figure size 432x288 with 2 Axes>"
      ]
     },
     "metadata": {
      "needs_background": "light"
     },
     "output_type": "display_data"
    }
   ],
   "source": [
    "#confusion matrix for default threshold\n",
    "\n",
    "cf_matrix = confusion_matrix(y_pred_final.went_on_backorder, y_pred_final.predicted)\n",
    "group_names = ['True Neg','False Pos','False Neg','True Pos']\n",
    "group_counts = [\"{0:0.0f}\".format(value) for value in\n",
    "                cf_matrix.flatten()]\n",
    "group_percentages = [\"{0:.2%}\".format(value) for value in\n",
    "                     cf_matrix.flatten()/np.sum(cf_matrix)]\n",
    "labels = [f'{v1}\\n{v2}\\n{v3}' for v1, v2, v3 in\n",
    "          zip(group_names,group_counts,group_percentages)]\n",
    "labels = np.asarray(labels).reshape(2,2)\n",
    "sns.heatmap(cf_matrix, annot=labels, fmt=\"\")\n",
    "#plt.xticks([2,0])\n",
    "plt.yticks([0,2])\n",
    "plt.title('Confusion matrix for default threshold')\n",
    "plt.xlabel('Actual label')\n",
    "plt.ylabel('Predicted label')"
   ]
  },
  {
   "cell_type": "code",
   "execution_count": 99,
   "metadata": {},
   "outputs": [
    {
     "name": "stdout",
     "output_type": "stream",
     "text": [
      "              precision    recall  f1-score   support\n",
      "\n",
      "           0       1.00      1.00      1.00    502705\n",
      "           1       1.00      1.00      1.00    503236\n",
      "\n",
      "    accuracy                           1.00   1005941\n",
      "   macro avg       1.00      1.00      1.00   1005941\n",
      "weighted avg       1.00      1.00      1.00   1005941\n",
      "\n"
     ]
    }
   ],
   "source": [
    "Classification = metrics.classification_report(y_pred_final.went_on_backorder, y_pred_final.predicted)\n",
    "print(Classification)"
   ]
  },
  {
   "cell_type": "code",
   "execution_count": 100,
   "metadata": {},
   "outputs": [],
   "source": [
    "def draw_roc( actual, probs ):\n",
    "    fpr, tpr, thresholds = metrics.roc_curve( actual, probs,\n",
    "                                              drop_intermediate = False )\n",
    "    auc_score = metrics.roc_auc_score( actual, probs )\n",
    "    plt.figure(figsize=(6, 4))\n",
    "    plt.plot( fpr, tpr, label='ROC curve (area = %0.2f)' % auc_score )\n",
    "    plt.plot([0, 1], [0, 1], 'k--')\n",
    "    plt.xlim([0.0, 1.0])\n",
    "    plt.ylim([0.0, 1.05])\n",
    "    #plt.xlabel('False Positive Rate')\n",
    "    #plt.ylabel('True Positive Rate')\n",
    "    #plt.title('Receiver operating characteristic example')\n",
    "    #plt.legend(loc=\"lower right\")\n",
    "    plt.show()\n",
    "\n",
    "    return fpr, tpr, thresholds"
   ]
  },
  {
   "cell_type": "code",
   "execution_count": 101,
   "metadata": {},
   "outputs": [
    {
     "data": {
      "image/png": "[encoded data removed]",
      "text/plain": [
       "<Figure size 432x288 with 1 Axes>"
      ]
     },
     "metadata": {
      "needs_background": "light"
     },
     "output_type": "display_data"
    },
    {
     "data": {
      "text/plain": [
       "(array([0.       , 0.0043624, 1.       ]),\n",
       " array([0.        , 0.99607143, 1.        ]),\n",
       " array([2, 1, 0], dtype=int64))"
      ]
     },
     "execution_count": 101,
     "metadata": {},
     "output_type": "execute_result"
    }
   ],
   "source": [
    "draw_roc(y_pred_final.went_on_backorder, y_pred_final.predicted)"
   ]
  },
  {
   "cell_type": "code",
   "execution_count": 102,
   "metadata": {},
   "outputs": [
    {
     "name": "stdout",
     "output_type": "stream",
     "text": [
      "The AUC score is : 99.58545131567578\n",
      "The Recall score is :  99.60714257326583\n",
      "The Precision score is :  99.56440733178138\n",
      "The f1 score is :  99.58577036778028\n"
     ]
    }
   ],
   "source": [
    "print(\"The AUC score is :\" , roc_auc(y_pred_final.went_on_backorder, y_pred_final.predicted) * 100)\n",
    "print(\"The Recall score is : \" , metrics.recall_score(y_pred_final.went_on_backorder, y_pred_final.predicted) * 100)\n",
    "print(\"The Precision score is : \" , metrics.precision_score(y_pred_final.went_on_backorder, y_pred_final.predicted) * 100)\n",
    "print(\"The f1 score is : \" , metrics.f1_score(y_pred_final.went_on_backorder, y_pred_final.predicted) * 100)"
   ]
  },
  {
   "cell_type": "markdown",
   "metadata": {},
   "source": [
    "#### The Oversampling method is highly overfitting"
   ]
  },
  {
   "cell_type": "code",
   "execution_count": 103,
   "metadata": {},
   "outputs": [
    {
     "name": "stdout",
     "output_type": "stream",
     "text": [
      "[[500512   2193]\n",
      " [  1977 501259]]\n"
     ]
    }
   ],
   "source": [
    "print(confusion)"
   ]
  },
  {
   "cell_type": "code",
   "execution_count": 104,
   "metadata": {},
   "outputs": [
    {
     "data": {
      "text/plain": [
       "Text(33.0, 0.5, 'Predicted label')"
      ]
     },
     "execution_count": 104,
     "metadata": {},
     "output_type": "execute_result"
    },
    {
     "data": {
      "image/png": "[encoded data removed]",
      "text/plain": [
       "<Figure size 432x288 with 2 Axes>"
      ]
     },
     "metadata": {
      "needs_background": "light"
     },
     "output_type": "display_data"
    }
   ],
   "source": [
    "#confusion matrix for default threshold\n",
    "\n",
    "cf_matrix = confusion_matrix(y_pred_final.went_on_backorder, y_pred_final.predicted)\n",
    "group_names = ['True Neg','False Pos','False Neg','True Pos']\n",
    "group_counts = [\"{0:0.0f}\".format(value) for value in\n",
    "                cf_matrix.flatten()]\n",
    "group_percentages = [\"{0:.2%}\".format(value) for value in\n",
    "                     cf_matrix.flatten()/np.sum(cf_matrix)]\n",
    "labels = [f'{v1}\\n{v2}\\n{v3}' for v1, v2, v3 in\n",
    "          zip(group_names,group_counts,group_percentages)]\n",
    "labels = np.asarray(labels).reshape(2,2)\n",
    "sns.heatmap(cf_matrix, annot=labels, fmt=\"\")\n",
    "#plt.xticks([2,0])\n",
    "plt.yticks([0,2])\n",
    "plt.title('Confusion matrix for default threshold')\n",
    "plt.xlabel('Actual label')\n",
    "plt.ylabel('Predicted label')"
   ]
  },
  {
   "cell_type": "markdown",
   "metadata": {},
   "source": [
    "### COMPARISON"
   ]
  },
  {
   "cell_type": "markdown",
   "metadata": {},
   "source": [
    "#### ROC_AUC"
   ]
  },
  {
   "cell_type": "code",
   "execution_count": 105,
   "metadata": {},
   "outputs": [
    {
     "name": "stdout",
     "output_type": "stream",
     "text": [
      "The Training roc_auc score for Over Sampling is : 99.61366077899893\n",
      "The Testing roc_auc score for Over Sampling is : 99.58545131567578\n"
     ]
    }
   ],
   "source": [
    "#Training score\n",
    "from sklearn.metrics import roc_auc_score\n",
    "pred_train=rf.predict(x_over_train)\n",
    "\n",
    "print(\"The Training roc_auc score for Over Sampling is :\", roc_auc_score(y_over_train,pred_train)*100)\n",
    "print(\"The Testing roc_auc score for Over Sampling is :\", roc_auc_score(y_pred_final.went_on_backorder, y_pred_final.predicted)*100)"
   ]
  },
  {
   "cell_type": "markdown",
   "metadata": {},
   "source": [
    "#### PRECISION"
   ]
  },
  {
   "cell_type": "code",
   "execution_count": 107,
   "metadata": {},
   "outputs": [
    {
     "name": "stdout",
     "output_type": "stream",
     "text": [
      "The Training Precision score for Over Sampling is : 99.63726933902697\n",
      "The Testing Precision score for Over Sampling is : 99.56440733178138\n"
     ]
    }
   ],
   "source": [
    "print(\"The Training Precision score for Over Sampling is :\", precision_score(y_over_train,pred_train)*100)\n",
    "print(\"The Testing Precision score for Over Sampling is :\", precision_score(y_pred_final.went_on_backorder, y_pred_final.predicted)*100)"
   ]
  },
  {
   "cell_type": "markdown",
   "metadata": {},
   "source": [
    "#### RECALL"
   ]
  },
  {
   "cell_type": "code",
   "execution_count": 108,
   "metadata": {},
   "outputs": [
    {
     "name": "stdout",
     "output_type": "stream",
     "text": [
      "The Training Recall score for Over Sampling is : 99.58971509318343\n",
      "The Testing Recall score for Over Sampling is : 99.60714257326583\n"
     ]
    }
   ],
   "source": [
    "print(\"The Training Recall score for Over Sampling is :\", recall_score(y_over_train,pred_train)*100)\n",
    "print(\"The Testing Recall score for Over Sampling is :\", recall_score(y_pred_final.went_on_backorder, y_pred_final.predicted)*100)"
   ]
  },
  {
   "cell_type": "markdown",
   "metadata": {},
   "source": [
    "### F1 "
   ]
  },
  {
   "cell_type": "code",
   "execution_count": 109,
   "metadata": {},
   "outputs": [
    {
     "name": "stdout",
     "output_type": "stream",
     "text": [
      "The Training F1 score for Over Sampling is : 99.61348654065338\n",
      "The Testing F1 score for Over Sampling is : 99.58577036778028\n"
     ]
    }
   ],
   "source": [
    "print(\"The Training F1 score for Over Sampling is :\", f1_score(y_over_train,pred_train)*100)\n",
    "print(\"The Testing F1 score for Over Sampling is :\", f1_score(y_pred_final.went_on_backorder, y_pred_final.predicted)*100)"
   ]
  },
  {
   "cell_type": "markdown",
   "metadata": {},
   "source": [
    "     ----It is clear that oversampling the data, is indeed making it overfitting . The data is multiplicated----"
   ]
  },
  {
   "cell_type": "markdown",
   "metadata": {},
   "source": [
    "## Feature Importance"
   ]
  },
  {
   "cell_type": "code",
   "execution_count": 111,
   "metadata": {},
   "outputs": [
    {
     "data": {
      "image/png": "[encoded data removed]",
      "text/plain": [
       "<Figure size 864x576 with 1 Axes>"
      ]
     },
     "metadata": {
      "needs_background": "light"
     },
     "output_type": "display_data"
    }
   ],
   "source": [
    "# Calculate feature importances\n",
    "importances = rf.feature_importances_\n",
    "\n",
    "# Sort feature importances in descending order\n",
    "indices = np.argsort(importances)[::-1]\n",
    "\n",
    "# Rearrange feature names so they match the sorted feature importances\n",
    "names = [X_over.columns[i] for i in indices]\n",
    "\n",
    "# Barplot: Add bars\n",
    "plt.figure(figsize=(12,8))\n",
    "plt.bar(range(X_over.shape[1]), importances[indices] , color = \"orange\")\n",
    "# Add feature names as x-axis labels\n",
    "plt.xticks(range(X_over.shape[1]), names, rotation=90, fontsize = 8)\n",
    "\n",
    "# Create plot title\n",
    "plt.title(\"Feature Importance for Under Sampling\")\n",
    "# Show plot\n",
    "plt.xlabel(\"Features\")\n",
    "plt.ylabel(\"Proportion\")\n",
    "plt.show()"
   ]
  },
  {
   "cell_type": "markdown",
   "metadata": {},
   "source": [
    "### Insights:\n",
    "\n",
    "    * This feature importance plot is similar to the Under Sampling feature importance plot.\n",
    "    "
   ]
  },
  {
   "cell_type": "markdown",
   "metadata": {},
   "source": [
    "--------------------------------------------------------------------------------------------------------------------------------\n",
    "--------------------------------------------------------------------------------------------------------------------------------"
   ]
  },
  {
   "cell_type": "markdown",
   "metadata": {},
   "source": [
    "## 3. SMOTE - Synthetic Minority Over Sampling Technique\n",
    "\n",
    "The right way to work on imbalanced data and SMOTE is to oversample only on the training data, and leave the test data unseen\n",
    " \n",
    "     * Split the training data further into train and validation data\n",
    "    \n",
    "              -- original test data = x_test, y_test\n",
    "    \n",
    "              -- original train_data = x_train, y_train\n",
    "    \n",
    "     * I will further split x_train, y_train to x_val, y_val, x_train_new, y_train_new\n",
    "    \n",
    "     * I will build the models on x_val and y_val, and check the model for performance on x_train_new, y_train_new\n",
    "    \n",
    "     * Finally I will check the performace of the model on the unseen x_test, y_test"
   ]
  },
  {
   "cell_type": "code",
   "execution_count": 15,
   "metadata": {},
   "outputs": [],
   "source": [
    "import imblearn\n",
    "from imblearn.over_sampling import SMOTE"
   ]
  },
  {
   "cell_type": "code",
   "execution_count": 16,
   "metadata": {},
   "outputs": [],
   "source": [
    "x_val, x_train_new, y_val,y_train_new = train_test_split(x_train, y_train, test_size = 0.30, random_state=12)"
   ]
  },
  {
   "cell_type": "code",
   "execution_count": 17,
   "metadata": {},
   "outputs": [],
   "source": [
    "sm = SMOTE()"
   ]
  },
  {
   "cell_type": "code",
   "execution_count": 18,
   "metadata": {},
   "outputs": [],
   "source": [
    "x_train_res, y_train_res = sm.fit_sample(x_val, y_val)"
   ]
  },
  {
   "cell_type": "markdown",
   "metadata": {},
   "source": [
    "----- Here SMOTE.fit_sample gives me the resampled data i.e the oversampled data -----"
   ]
  },
  {
   "cell_type": "code",
   "execution_count": 19,
   "metadata": {},
   "outputs": [
    {
     "data": {
      "text/plain": [
       "Counter({0: 821446, 1: 821446})"
      ]
     },
     "execution_count": 19,
     "metadata": {},
     "output_type": "execute_result"
    }
   ],
   "source": [
    "#x_train_res, y_train_res = sm.fit_sample(x_val, y_val)\n",
    "Counter(y_train_res)"
   ]
  },
  {
   "cell_type": "markdown",
   "metadata": {},
   "source": [
    "### Random Forest "
   ]
  },
  {
   "cell_type": "code",
   "execution_count": 20,
   "metadata": {},
   "outputs": [],
   "source": [
    "from sklearn.metrics import accuracy_score, f1_score,confusion_matrix,classification_report,roc_auc_score,roc_curve,auc\n",
    "from sklearn.model_selection import KFold\n",
    "from sklearn.model_selection import GridSearchCV\n",
    "from sklearn.model_selection import train_test_split\n",
    "from sklearn.model_selection import cross_val_score\n",
    "\n",
    "from sklearn.ensemble import RandomForestClassifier"
   ]
  },
  {
   "cell_type": "code",
   "execution_count": 21,
   "metadata": {},
   "outputs": [
    {
     "data": {
      "text/plain": [
       "RandomForestClassifier()"
      ]
     },
     "execution_count": 21,
     "metadata": {},
     "output_type": "execute_result"
    }
   ],
   "source": [
    "# Let's run the model\n",
    "\n",
    "rf = RandomForestClassifier()\n",
    "rf.fit(x_train_res, y_train_res)"
   ]
  },
  {
   "cell_type": "markdown",
   "metadata": {},
   "source": [
    "#### Random Forest prediction"
   ]
  },
  {
   "cell_type": "code",
   "execution_count": 22,
   "metadata": {},
   "outputs": [],
   "source": [
    "# Predicted probabilities\n",
    "y_pred = rf.predict_proba(x_test)"
   ]
  },
  {
   "cell_type": "code",
   "execution_count": 23,
   "metadata": {},
   "outputs": [],
   "source": [
    "# Converting y_pred to a dataframe which is an array\n",
    "y_pred_df = pd.DataFrame(y_pred)"
   ]
  },
  {
   "cell_type": "code",
   "execution_count": 24,
   "metadata": {},
   "outputs": [],
   "source": [
    "# Converting to column dataframe (keeping the outcome of 1)\n",
    "y_pred_1 = y_pred_df.iloc[:,[1]]"
   ]
  },
  {
   "cell_type": "code",
   "execution_count": 25,
   "metadata": {},
   "outputs": [],
   "source": [
    "# Converting y_test to dataframe\n",
    "y_test_df = pd.DataFrame(y_test)"
   ]
  },
  {
   "cell_type": "code",
   "execution_count": 26,
   "metadata": {},
   "outputs": [],
   "source": [
    "# Putting sku to index\n",
    "y_test_df['sku'] = y_test_df.index"
   ]
  },
  {
   "cell_type": "code",
   "execution_count": 27,
   "metadata": {},
   "outputs": [],
   "source": [
    "# Removing index for both dataframes to append them side by side \n",
    "y_pred_1.reset_index(drop=True, inplace=True)\n",
    "y_test_df.reset_index(drop=True, inplace=True)"
   ]
  },
  {
   "cell_type": "code",
   "execution_count": 28,
   "metadata": {},
   "outputs": [],
   "source": [
    "# Appending y_test_df and y_pred_1\n",
    "\n",
    "y_pred_final = pd.concat([y_test_df,y_pred_1],axis=1)"
   ]
  },
  {
   "cell_type": "code",
   "execution_count": 29,
   "metadata": {},
   "outputs": [],
   "source": [
    "# Renaming the column \n",
    "y_pred_final= y_pred_final.rename(columns={ 1 : 'went_backorder_Prob'})"
   ]
  },
  {
   "cell_type": "code",
   "execution_count": 30,
   "metadata": {},
   "outputs": [
    {
     "data": {
      "text/plain": [
       "['went_on_backorder', 'sku', 'went_backorder_Prob']"
      ]
     },
     "execution_count": 30,
     "metadata": {},
     "output_type": "execute_result"
    }
   ],
   "source": [
    "cols = y_pred_final.columns.tolist()\n",
    "cols"
   ]
  },
  {
   "cell_type": "code",
   "execution_count": 31,
   "metadata": {},
   "outputs": [
    {
     "data": {
      "text/plain": [
       "['sku', 'went_on_backorder', 'went_backorder_Prob']"
      ]
     },
     "execution_count": 31,
     "metadata": {},
     "output_type": "execute_result"
    }
   ],
   "source": [
    "cols.insert(1, cols.pop(cols.index('went_on_backorder')))  ## 0 is the destination index , Mid is ur feature\n",
    "cols"
   ]
  },
  {
   "cell_type": "code",
   "execution_count": 32,
   "metadata": {},
   "outputs": [
    {
     "data": {
      "text/html": [
       "<div>\n",
       "<style scoped>\n",
       "    .dataframe tbody tr th:only-of-type {\n",
       "        vertical-align: middle;\n",
       "    }\n",
       "\n",
       "    .dataframe tbody tr th {\n",
       "        vertical-align: top;\n",
       "    }\n",
       "\n",
       "    .dataframe thead th {\n",
       "        text-align: right;\n",
       "    }\n",
       "</style>\n",
       "<table border=\"1\" class=\"dataframe\">\n",
       "  <thead>\n",
       "    <tr style=\"text-align: right;\">\n",
       "      <th></th>\n",
       "      <th>sku</th>\n",
       "      <th>went_on_backorder</th>\n",
       "      <th>went_backorder_Prob</th>\n",
       "    </tr>\n",
       "  </thead>\n",
       "  <tbody>\n",
       "    <tr>\n",
       "      <td>0</td>\n",
       "      <td>696721</td>\n",
       "      <td>0</td>\n",
       "      <td>0.003582</td>\n",
       "    </tr>\n",
       "    <tr>\n",
       "      <td>1</td>\n",
       "      <td>1580507</td>\n",
       "      <td>0</td>\n",
       "      <td>0.113058</td>\n",
       "    </tr>\n",
       "    <tr>\n",
       "      <td>2</td>\n",
       "      <td>733985</td>\n",
       "      <td>0</td>\n",
       "      <td>0.243519</td>\n",
       "    </tr>\n",
       "    <tr>\n",
       "      <td>3</td>\n",
       "      <td>1029932</td>\n",
       "      <td>0</td>\n",
       "      <td>0.019209</td>\n",
       "    </tr>\n",
       "    <tr>\n",
       "      <td>4</td>\n",
       "      <td>1685688</td>\n",
       "      <td>0</td>\n",
       "      <td>0.100000</td>\n",
       "    </tr>\n",
       "  </tbody>\n",
       "</table>\n",
       "</div>"
      ],
      "text/plain": [
       "       sku  went_on_backorder  went_backorder_Prob\n",
       "0   696721                  0             0.003582\n",
       "1  1580507                  0             0.113058\n",
       "2   733985                  0             0.243519\n",
       "3  1029932                  0             0.019209\n",
       "4  1685688                  0             0.100000"
      ]
     },
     "execution_count": 32,
     "metadata": {},
     "output_type": "execute_result"
    }
   ],
   "source": [
    "y_pred_final = y_pred_final.reindex(columns= cols)\n",
    "y_pred_final.head()\n",
    "## Column reindex is performed "
   ]
  },
  {
   "cell_type": "code",
   "execution_count": 33,
   "metadata": {},
   "outputs": [],
   "source": [
    "# Creating new column 'predicted' with 1 if went_on_backorder >0.5 else 0\n",
    "y_pred_final['predicted'] = y_pred_final.went_backorder_Prob.map( lambda x: 1 if x > 0.5 else 0)"
   ]
  },
  {
   "cell_type": "code",
   "execution_count": 34,
   "metadata": {},
   "outputs": [
    {
     "data": {
      "text/html": [
       "<div>\n",
       "<style scoped>\n",
       "    .dataframe tbody tr th:only-of-type {\n",
       "        vertical-align: middle;\n",
       "    }\n",
       "\n",
       "    .dataframe tbody tr th {\n",
       "        vertical-align: top;\n",
       "    }\n",
       "\n",
       "    .dataframe thead th {\n",
       "        text-align: right;\n",
       "    }\n",
       "</style>\n",
       "<table border=\"1\" class=\"dataframe\">\n",
       "  <thead>\n",
       "    <tr style=\"text-align: right;\">\n",
       "      <th></th>\n",
       "      <th>sku</th>\n",
       "      <th>went_on_backorder</th>\n",
       "      <th>went_backorder_Prob</th>\n",
       "      <th>predicted</th>\n",
       "    </tr>\n",
       "  </thead>\n",
       "  <tbody>\n",
       "    <tr>\n",
       "      <td>0</td>\n",
       "      <td>696721</td>\n",
       "      <td>0</td>\n",
       "      <td>0.003582</td>\n",
       "      <td>0</td>\n",
       "    </tr>\n",
       "    <tr>\n",
       "      <td>1</td>\n",
       "      <td>1580507</td>\n",
       "      <td>0</td>\n",
       "      <td>0.113058</td>\n",
       "      <td>0</td>\n",
       "    </tr>\n",
       "    <tr>\n",
       "      <td>2</td>\n",
       "      <td>733985</td>\n",
       "      <td>0</td>\n",
       "      <td>0.243519</td>\n",
       "      <td>0</td>\n",
       "    </tr>\n",
       "    <tr>\n",
       "      <td>3</td>\n",
       "      <td>1029932</td>\n",
       "      <td>0</td>\n",
       "      <td>0.019209</td>\n",
       "      <td>0</td>\n",
       "    </tr>\n",
       "    <tr>\n",
       "      <td>4</td>\n",
       "      <td>1685688</td>\n",
       "      <td>0</td>\n",
       "      <td>0.100000</td>\n",
       "      <td>0</td>\n",
       "    </tr>\n",
       "  </tbody>\n",
       "</table>\n",
       "</div>"
      ],
      "text/plain": [
       "       sku  went_on_backorder  went_backorder_Prob  predicted\n",
       "0   696721                  0             0.003582          0\n",
       "1  1580507                  0             0.113058          0\n",
       "2   733985                  0             0.243519          0\n",
       "3  1029932                  0             0.019209          0\n",
       "4  1685688                  0             0.100000          0"
      ]
     },
     "execution_count": 34,
     "metadata": {},
     "output_type": "execute_result"
    }
   ],
   "source": [
    "y_pred_final.head()"
   ]
  },
  {
   "cell_type": "markdown",
   "metadata": {},
   "source": [
    "### Random Forest Metrics "
   ]
  },
  {
   "cell_type": "code",
   "execution_count": 35,
   "metadata": {},
   "outputs": [],
   "source": [
    "from sklearn import metrics "
   ]
  },
  {
   "cell_type": "code",
   "execution_count": 36,
   "metadata": {},
   "outputs": [
    {
     "data": {
      "text/plain": [
       "array([[490180,  12813],\n",
       "       [  1550,   1815]], dtype=int64)"
      ]
     },
     "execution_count": 36,
     "metadata": {},
     "output_type": "execute_result"
    }
   ],
   "source": [
    "# Confusion matrix \n",
    "confusion = metrics.confusion_matrix( y_pred_final.went_on_backorder, y_pred_final.predicted )\n",
    "confusion"
   ]
  },
  {
   "cell_type": "code",
   "execution_count": 37,
   "metadata": {},
   "outputs": [
    {
     "data": {
      "text/plain": [
       "Text(33.0, 0.5, 'Predicted label')"
      ]
     },
     "execution_count": 37,
     "metadata": {},
     "output_type": "execute_result"
    },
    {
     "data": {
      "image/png": "[encoded data removed]",
      "text/plain": [
       "<Figure size 432x288 with 2 Axes>"
      ]
     },
     "metadata": {
      "needs_background": "light"
     },
     "output_type": "display_data"
    }
   ],
   "source": [
    "#confusion matrix for default threshold\n",
    "\n",
    "cf_matrix = confusion_matrix(y_pred_final.went_on_backorder, y_pred_final.predicted)\n",
    "group_names = ['True Neg','False Pos','False Neg','True Pos']\n",
    "group_counts = [\"{0:0.0f}\".format(value) for value in\n",
    "                cf_matrix.flatten()]\n",
    "group_percentages = [\"{0:.2%}\".format(value) for value in\n",
    "                     cf_matrix.flatten()/np.sum(cf_matrix)]\n",
    "labels = [f'{v1}\\n{v2}\\n{v3}' for v1, v2, v3 in\n",
    "          zip(group_names,group_counts,group_percentages)]\n",
    "labels = np.asarray(labels).reshape(2,2)\n",
    "sns.heatmap(cf_matrix, annot=labels, fmt=\"\")\n",
    "#plt.xticks([2,0])\n",
    "plt.yticks([0,2])\n",
    "plt.title('Confusion matrix for default threshold')\n",
    "plt.xlabel('Actual label')\n",
    "plt.ylabel('Predicted label')\n",
    "\n"
   ]
  },
  {
   "cell_type": "code",
   "execution_count": 38,
   "metadata": {},
   "outputs": [
    {
     "name": "stdout",
     "output_type": "stream",
     "text": [
      "              precision    recall  f1-score   support\n",
      "\n",
      "           0       1.00      0.97      0.99    502993\n",
      "           1       0.12      0.54      0.20      3365\n",
      "\n",
      "    accuracy                           0.97    506358\n",
      "   macro avg       0.56      0.76      0.59    506358\n",
      "weighted avg       0.99      0.97      0.98    506358\n",
      "\n"
     ]
    }
   ],
   "source": [
    "Classification = metrics.classification_report(y_pred_final.went_on_backorder, y_pred_final.predicted)\n",
    "print(Classification)"
   ]
  },
  {
   "cell_type": "markdown",
   "metadata": {},
   "source": [
    "### ROC plot"
   ]
  },
  {
   "cell_type": "code",
   "execution_count": 39,
   "metadata": {},
   "outputs": [],
   "source": [
    "def draw_roc( actual, probs ):\n",
    "    fpr, tpr, thresholds = metrics.roc_curve( actual, probs,\n",
    "                                              drop_intermediate = False )\n",
    "    auc_score = metrics.roc_auc_score( actual, probs )\n",
    "    plt.figure(figsize=(6, 4))\n",
    "    plt.plot( fpr, tpr, label='ROC curve (area = %0.2f)' % auc_score )\n",
    "    plt.plot([0, 1], [0, 1], 'k--')\n",
    "    plt.xlim([0.0, 1.0])\n",
    "    plt.ylim([0.0, 1.05])\n",
    "    #plt.xlabel('FPR')\n",
    "    #plt.ylabel('TPR')\n",
    "    #plt.title('Receiver operating characteristic example')\n",
    "    plt.legend(loc=\"lower right\")\n",
    "    plt.show()\n",
    "\n",
    "    return fpr, tpr, thresholds"
   ]
  },
  {
   "cell_type": "code",
   "execution_count": 40,
   "metadata": {},
   "outputs": [],
   "source": [
    "def roc_auc(actual , probs):\n",
    "    fpr, tpr, thresholds = metrics.roc_curve( actual, probs,\n",
    "                                              drop_intermediate = False )\n",
    "    auc_score = metrics.roc_auc_score( actual, probs )\n",
    "    return auc_score"
   ]
  },
  {
   "cell_type": "code",
   "execution_count": 41,
   "metadata": {},
   "outputs": [
    {
     "data": {
      "image/png": "[encoded data removed]",
      "text/plain": [
       "<Figure size 432x288 with 1 Axes>"
      ]
     },
     "metadata": {
      "needs_background": "light"
     },
     "output_type": "display_data"
    },
    {
     "data": {
      "text/plain": [
       "(array([0.        , 0.02547352, 1.        ]),\n",
       " array([0.        , 0.53937593, 1.        ]),\n",
       " array([2, 1, 0], dtype=int64))"
      ]
     },
     "execution_count": 41,
     "metadata": {},
     "output_type": "execute_result"
    }
   ],
   "source": [
    "draw_roc(y_pred_final.went_on_backorder, y_pred_final.predicted)"
   ]
  },
  {
   "cell_type": "code",
   "execution_count": 42,
   "metadata": {},
   "outputs": [
    {
     "data": {
      "text/plain": [
       "0.7569512065707807"
      ]
     },
     "execution_count": 42,
     "metadata": {},
     "output_type": "execute_result"
    }
   ],
   "source": [
    "roc_auc(y_pred_final.went_on_backorder, y_pred_final.predicted)"
   ]
  },
  {
   "cell_type": "code",
   "execution_count": 43,
   "metadata": {},
   "outputs": [
    {
     "name": "stdout",
     "output_type": "stream",
     "text": [
      "The AUC score is : 75.69512065707808\n",
      "The Recall score is :  53.937592867756315\n",
      "The Precision score is :  12.407711238720262\n",
      "The f1 score is :  20.174512310342905\n"
     ]
    }
   ],
   "source": [
    "print(\"The AUC score is :\" , roc_auc(y_pred_final.went_on_backorder, y_pred_final.predicted) * 100)\n",
    "print(\"The Recall score is : \" , metrics.recall_score(y_pred_final.went_on_backorder, y_pred_final.predicted) * 100)\n",
    "print(\"The Precision score is : \" , metrics.precision_score(y_pred_final.went_on_backorder, y_pred_final.predicted) * 100)\n",
    "print(\"The f1 score is : \" , metrics.f1_score(y_pred_final.went_on_backorder, y_pred_final.predicted) * 100)"
   ]
  },
  {
   "cell_type": "markdown",
   "metadata": {},
   "source": [
    "### Comparison"
   ]
  },
  {
   "cell_type": "markdown",
   "metadata": {},
   "source": [
    "#### ROC_AUC"
   ]
  },
  {
   "cell_type": "code",
   "execution_count": 44,
   "metadata": {},
   "outputs": [
    {
     "name": "stdout",
     "output_type": "stream",
     "text": [
      "The training roc_auc score SMOTING is : 92.0693811809485\n",
      "The testing roc_auc score for SMOTING is :  75.69512065707808\n"
     ]
    }
   ],
   "source": [
    "#Training score\n",
    "from sklearn.metrics import roc_auc_score\n",
    "pred_train=rf.predict(x_train)\n",
    "print(\"The training roc_auc score SMOTING is :\", roc_auc_score(y_train,pred_train)*100)\n",
    "print(\"The testing roc_auc score for SMOTING is : \", roc_auc(y_pred_final.went_on_backorder, y_pred_final.predicted) * 100)"
   ]
  },
  {
   "cell_type": "markdown",
   "metadata": {},
   "source": [
    "#### PRECISION"
   ]
  },
  {
   "cell_type": "code",
   "execution_count": 46,
   "metadata": {},
   "outputs": [
    {
     "name": "stdout",
     "output_type": "stream",
     "text": [
      "The training Precision score SMOTING is : 20.76673440296018\n",
      "The testing Precision score for SMOTING is :  12.407711238720262\n"
     ]
    }
   ],
   "source": [
    "print(\"The training Precision score SMOTING is :\", metrics.precision_score(y_train,pred_train)*100)\n",
    "print(\"The testing Precision score for SMOTING is : \", metrics.precision_score(y_pred_final.went_on_backorder, y_pred_final.predicted) * 100)"
   ]
  },
  {
   "cell_type": "markdown",
   "metadata": {},
   "source": [
    "#### RECALL"
   ]
  },
  {
   "cell_type": "code",
   "execution_count": 47,
   "metadata": {},
   "outputs": [
    {
     "name": "stdout",
     "output_type": "stream",
     "text": [
      "The training Recall score SMOTING is : 86.36478304742684\n",
      "The testing Recall score for SMOTING is :  53.937592867756315\n"
     ]
    }
   ],
   "source": [
    "print(\"The training Recall score SMOTING is :\", metrics.recall_score(y_train,pred_train)*100)\n",
    "print(\"The testing Recall score for SMOTING is : \", metrics.recall_score(y_pred_final.went_on_backorder, y_pred_final.predicted) * 100)"
   ]
  },
  {
   "cell_type": "markdown",
   "metadata": {},
   "source": [
    "#### F1"
   ]
  },
  {
   "cell_type": "code",
   "execution_count": 48,
   "metadata": {},
   "outputs": [
    {
     "name": "stdout",
     "output_type": "stream",
     "text": [
      "The training F1 score SMOTING is : 33.48248123426\n",
      "The testing F1 score for SMOTING is :  20.174512310342905\n"
     ]
    }
   ],
   "source": [
    "print(\"The training F1 score SMOTING is :\", metrics.f1_score(y_train,pred_train)*100)\n",
    "print(\"The testing F1 score for SMOTING is : \", metrics.f1_score(y_pred_final.went_on_backorder, y_pred_final.predicted) * 100)"
   ]
  },
  {
   "cell_type": "markdown",
   "metadata": {},
   "source": [
    "## Feature Importance"
   ]
  },
  {
   "cell_type": "code",
   "execution_count": 156,
   "metadata": {},
   "outputs": [],
   "source": [
    "x_train = pd.DataFrame(x_train)"
   ]
  },
  {
   "cell_type": "code",
   "execution_count": 165,
   "metadata": {},
   "outputs": [],
   "source": [
    "x_train = x_train.rename(columns={0:\"national_inv\",1:\"lead_time\",2:\"in_transit_qty\",3:\"forecast_3_month\",4:\"forecast_6_month\",\n",
    "                                  5:\"forecast_9_month\",6:\"sales_1_month\",7:\"sales_3_month\",8:\"sales_6_month\",9:\"sales_9_month\",\n",
    "                                 10:\"min_bank\",11:\"potential_issue\",12:\"pieces_past_due\",13:\"perf_6_month_avg\",14:\"perf_12_month_avg\",\n",
    "                                 15:\"local_bo_qty\",16:\"deck_risk\",17:\"oe_constraint\",18:\"ppap_risk\",19:\"stop_auto_buy\",20:\"rev_stop\"})"
   ]
  },
  {
   "cell_type": "code",
   "execution_count": 166,
   "metadata": {},
   "outputs": [
    {
     "data": {
      "text/html": [
       "<div>\n",
       "<style scoped>\n",
       "    .dataframe tbody tr th:only-of-type {\n",
       "        vertical-align: middle;\n",
       "    }\n",
       "\n",
       "    .dataframe tbody tr th {\n",
       "        vertical-align: top;\n",
       "    }\n",
       "\n",
       "    .dataframe thead th {\n",
       "        text-align: right;\n",
       "    }\n",
       "</style>\n",
       "<table border=\"1\" class=\"dataframe\">\n",
       "  <thead>\n",
       "    <tr style=\"text-align: right;\">\n",
       "      <th></th>\n",
       "      <th>national_inv</th>\n",
       "      <th>lead_time</th>\n",
       "      <th>in_transit_qty</th>\n",
       "      <th>forecast_3_month</th>\n",
       "      <th>forecast_6_month</th>\n",
       "      <th>forecast_9_month</th>\n",
       "      <th>sales_1_month</th>\n",
       "      <th>sales_3_month</th>\n",
       "      <th>sales_6_month</th>\n",
       "      <th>sales_9_month</th>\n",
       "      <th>min_bank</th>\n",
       "      <th>potential_issue</th>\n",
       "      <th>pieces_past_due</th>\n",
       "      <th>perf_6_month_avg</th>\n",
       "      <th>perf_12_month_avg</th>\n",
       "      <th>local_bo_qty</th>\n",
       "      <th>deck_risk</th>\n",
       "      <th>oe_constraint</th>\n",
       "      <th>ppap_risk</th>\n",
       "      <th>stop_auto_buy</th>\n",
       "      <th>rev_stop</th>\n",
       "    </tr>\n",
       "  </thead>\n",
       "  <tbody>\n",
       "    <tr>\n",
       "      <td>0</td>\n",
       "      <td>0.002205</td>\n",
       "      <td>0.153846</td>\n",
       "      <td>0.000000</td>\n",
       "      <td>0.000000</td>\n",
       "      <td>0.000000e+00</td>\n",
       "      <td>0.000000e+00</td>\n",
       "      <td>0.000000</td>\n",
       "      <td>0.000000e+00</td>\n",
       "      <td>4.658476e-07</td>\n",
       "      <td>6.239915e-07</td>\n",
       "      <td>0.000003</td>\n",
       "      <td>0.0</td>\n",
       "      <td>0.0</td>\n",
       "      <td>0.98</td>\n",
       "      <td>0.95</td>\n",
       "      <td>0.0</td>\n",
       "      <td>0.0</td>\n",
       "      <td>0.0</td>\n",
       "      <td>0.0</td>\n",
       "      <td>1.0</td>\n",
       "      <td>0.0</td>\n",
       "    </tr>\n",
       "    <tr>\n",
       "      <td>1</td>\n",
       "      <td>0.002216</td>\n",
       "      <td>0.153846</td>\n",
       "      <td>0.000000</td>\n",
       "      <td>0.000000</td>\n",
       "      <td>0.000000e+00</td>\n",
       "      <td>0.000000e+00</td>\n",
       "      <td>0.000004</td>\n",
       "      <td>7.236689e-06</td>\n",
       "      <td>1.071449e-05</td>\n",
       "      <td>9.671868e-06</td>\n",
       "      <td>0.000006</td>\n",
       "      <td>0.0</td>\n",
       "      <td>0.0</td>\n",
       "      <td>0.85</td>\n",
       "      <td>0.83</td>\n",
       "      <td>0.0</td>\n",
       "      <td>1.0</td>\n",
       "      <td>0.0</td>\n",
       "      <td>0.0</td>\n",
       "      <td>1.0</td>\n",
       "      <td>0.0</td>\n",
       "    </tr>\n",
       "    <tr>\n",
       "      <td>2</td>\n",
       "      <td>0.002205</td>\n",
       "      <td>0.153846</td>\n",
       "      <td>0.000000</td>\n",
       "      <td>0.000000</td>\n",
       "      <td>0.000000e+00</td>\n",
       "      <td>0.000000e+00</td>\n",
       "      <td>0.000000</td>\n",
       "      <td>9.045861e-07</td>\n",
       "      <td>4.658476e-07</td>\n",
       "      <td>3.119957e-07</td>\n",
       "      <td>0.000003</td>\n",
       "      <td>0.0</td>\n",
       "      <td>0.0</td>\n",
       "      <td>0.98</td>\n",
       "      <td>0.94</td>\n",
       "      <td>0.0</td>\n",
       "      <td>0.0</td>\n",
       "      <td>0.0</td>\n",
       "      <td>0.0</td>\n",
       "      <td>1.0</td>\n",
       "      <td>0.0</td>\n",
       "    </tr>\n",
       "    <tr>\n",
       "      <td>3</td>\n",
       "      <td>0.002206</td>\n",
       "      <td>0.230769</td>\n",
       "      <td>0.000027</td>\n",
       "      <td>0.000000</td>\n",
       "      <td>0.000000e+00</td>\n",
       "      <td>0.000000e+00</td>\n",
       "      <td>0.000000</td>\n",
       "      <td>0.000000e+00</td>\n",
       "      <td>0.000000e+00</td>\n",
       "      <td>0.000000e+00</td>\n",
       "      <td>0.000003</td>\n",
       "      <td>0.0</td>\n",
       "      <td>0.0</td>\n",
       "      <td>0.58</td>\n",
       "      <td>0.58</td>\n",
       "      <td>0.0</td>\n",
       "      <td>1.0</td>\n",
       "      <td>0.0</td>\n",
       "      <td>0.0</td>\n",
       "      <td>1.0</td>\n",
       "      <td>0.0</td>\n",
       "    </tr>\n",
       "    <tr>\n",
       "      <td>4</td>\n",
       "      <td>0.002209</td>\n",
       "      <td>0.153846</td>\n",
       "      <td>0.000000</td>\n",
       "      <td>0.000000</td>\n",
       "      <td>0.000000e+00</td>\n",
       "      <td>0.000000e+00</td>\n",
       "      <td>0.000000</td>\n",
       "      <td>0.000000e+00</td>\n",
       "      <td>0.000000e+00</td>\n",
       "      <td>0.000000e+00</td>\n",
       "      <td>0.000006</td>\n",
       "      <td>0.0</td>\n",
       "      <td>0.0</td>\n",
       "      <td>0.35</td>\n",
       "      <td>0.54</td>\n",
       "      <td>0.0</td>\n",
       "      <td>0.0</td>\n",
       "      <td>0.0</td>\n",
       "      <td>0.0</td>\n",
       "      <td>1.0</td>\n",
       "      <td>0.0</td>\n",
       "    </tr>\n",
       "    <tr>\n",
       "      <td>...</td>\n",
       "      <td>...</td>\n",
       "      <td>...</td>\n",
       "      <td>...</td>\n",
       "      <td>...</td>\n",
       "      <td>...</td>\n",
       "      <td>...</td>\n",
       "      <td>...</td>\n",
       "      <td>...</td>\n",
       "      <td>...</td>\n",
       "      <td>...</td>\n",
       "      <td>...</td>\n",
       "      <td>...</td>\n",
       "      <td>...</td>\n",
       "      <td>...</td>\n",
       "      <td>...</td>\n",
       "      <td>...</td>\n",
       "      <td>...</td>\n",
       "      <td>...</td>\n",
       "      <td>...</td>\n",
       "      <td>...</td>\n",
       "      <td>...</td>\n",
       "    </tr>\n",
       "    <tr>\n",
       "      <td>1181497</td>\n",
       "      <td>0.002205</td>\n",
       "      <td>0.076923</td>\n",
       "      <td>0.000000</td>\n",
       "      <td>0.000000</td>\n",
       "      <td>4.062795e-07</td>\n",
       "      <td>5.294782e-07</td>\n",
       "      <td>0.000000</td>\n",
       "      <td>1.809172e-06</td>\n",
       "      <td>9.316951e-07</td>\n",
       "      <td>6.239915e-07</td>\n",
       "      <td>0.000000</td>\n",
       "      <td>0.0</td>\n",
       "      <td>0.0</td>\n",
       "      <td>0.73</td>\n",
       "      <td>0.78</td>\n",
       "      <td>0.0</td>\n",
       "      <td>0.0</td>\n",
       "      <td>0.0</td>\n",
       "      <td>0.0</td>\n",
       "      <td>1.0</td>\n",
       "      <td>0.0</td>\n",
       "    </tr>\n",
       "    <tr>\n",
       "      <td>1181498</td>\n",
       "      <td>0.002220</td>\n",
       "      <td>1.000000</td>\n",
       "      <td>0.000008</td>\n",
       "      <td>0.000084</td>\n",
       "      <td>4.875353e-05</td>\n",
       "      <td>3.176869e-05</td>\n",
       "      <td>0.000018</td>\n",
       "      <td>2.442382e-05</td>\n",
       "      <td>2.049729e-05</td>\n",
       "      <td>1.996773e-05</td>\n",
       "      <td>0.000051</td>\n",
       "      <td>0.0</td>\n",
       "      <td>0.0</td>\n",
       "      <td>0.97</td>\n",
       "      <td>0.93</td>\n",
       "      <td>0.0</td>\n",
       "      <td>1.0</td>\n",
       "      <td>0.0</td>\n",
       "      <td>1.0</td>\n",
       "      <td>0.0</td>\n",
       "      <td>0.0</td>\n",
       "    </tr>\n",
       "    <tr>\n",
       "      <td>1181499</td>\n",
       "      <td>0.002206</td>\n",
       "      <td>0.153846</td>\n",
       "      <td>0.000000</td>\n",
       "      <td>0.000000</td>\n",
       "      <td>0.000000e+00</td>\n",
       "      <td>0.000000e+00</td>\n",
       "      <td>0.000000</td>\n",
       "      <td>0.000000e+00</td>\n",
       "      <td>0.000000e+00</td>\n",
       "      <td>0.000000e+00</td>\n",
       "      <td>0.000000</td>\n",
       "      <td>0.0</td>\n",
       "      <td>0.0</td>\n",
       "      <td>0.82</td>\n",
       "      <td>0.81</td>\n",
       "      <td>0.0</td>\n",
       "      <td>0.0</td>\n",
       "      <td>0.0</td>\n",
       "      <td>0.0</td>\n",
       "      <td>1.0</td>\n",
       "      <td>0.0</td>\n",
       "    </tr>\n",
       "    <tr>\n",
       "      <td>1181500</td>\n",
       "      <td>0.002205</td>\n",
       "      <td>0.173077</td>\n",
       "      <td>0.000000</td>\n",
       "      <td>0.000000</td>\n",
       "      <td>0.000000e+00</td>\n",
       "      <td>0.000000e+00</td>\n",
       "      <td>0.000000</td>\n",
       "      <td>0.000000e+00</td>\n",
       "      <td>4.658476e-07</td>\n",
       "      <td>3.119957e-07</td>\n",
       "      <td>0.000000</td>\n",
       "      <td>0.0</td>\n",
       "      <td>0.0</td>\n",
       "      <td>0.93</td>\n",
       "      <td>0.78</td>\n",
       "      <td>0.0</td>\n",
       "      <td>0.0</td>\n",
       "      <td>0.0</td>\n",
       "      <td>0.0</td>\n",
       "      <td>1.0</td>\n",
       "      <td>0.0</td>\n",
       "    </tr>\n",
       "    <tr>\n",
       "      <td>1181501</td>\n",
       "      <td>0.002206</td>\n",
       "      <td>0.269231</td>\n",
       "      <td>0.000000</td>\n",
       "      <td>0.000000</td>\n",
       "      <td>0.000000e+00</td>\n",
       "      <td>0.000000e+00</td>\n",
       "      <td>0.000000</td>\n",
       "      <td>1.809172e-06</td>\n",
       "      <td>9.316951e-07</td>\n",
       "      <td>6.239915e-07</td>\n",
       "      <td>0.000003</td>\n",
       "      <td>0.0</td>\n",
       "      <td>0.0</td>\n",
       "      <td>0.99</td>\n",
       "      <td>0.99</td>\n",
       "      <td>0.0</td>\n",
       "      <td>0.0</td>\n",
       "      <td>0.0</td>\n",
       "      <td>0.0</td>\n",
       "      <td>1.0</td>\n",
       "      <td>0.0</td>\n",
       "    </tr>\n",
       "  </tbody>\n",
       "</table>\n",
       "<p>1181502 rows × 21 columns</p>\n",
       "</div>"
      ],
      "text/plain": [
       "         national_inv  lead_time  in_transit_qty  forecast_3_month  \\\n",
       "0            0.002205   0.153846        0.000000          0.000000   \n",
       "1            0.002216   0.153846        0.000000          0.000000   \n",
       "2            0.002205   0.153846        0.000000          0.000000   \n",
       "3            0.002206   0.230769        0.000027          0.000000   \n",
       "4            0.002209   0.153846        0.000000          0.000000   \n",
       "...               ...        ...             ...               ...   \n",
       "1181497      0.002205   0.076923        0.000000          0.000000   \n",
       "1181498      0.002220   1.000000        0.000008          0.000084   \n",
       "1181499      0.002206   0.153846        0.000000          0.000000   \n",
       "1181500      0.002205   0.173077        0.000000          0.000000   \n",
       "1181501      0.002206   0.269231        0.000000          0.000000   \n",
       "\n",
       "         forecast_6_month  forecast_9_month  sales_1_month  sales_3_month  \\\n",
       "0            0.000000e+00      0.000000e+00       0.000000   0.000000e+00   \n",
       "1            0.000000e+00      0.000000e+00       0.000004   7.236689e-06   \n",
       "2            0.000000e+00      0.000000e+00       0.000000   9.045861e-07   \n",
       "3            0.000000e+00      0.000000e+00       0.000000   0.000000e+00   \n",
       "4            0.000000e+00      0.000000e+00       0.000000   0.000000e+00   \n",
       "...                   ...               ...            ...            ...   \n",
       "1181497      4.062795e-07      5.294782e-07       0.000000   1.809172e-06   \n",
       "1181498      4.875353e-05      3.176869e-05       0.000018   2.442382e-05   \n",
       "1181499      0.000000e+00      0.000000e+00       0.000000   0.000000e+00   \n",
       "1181500      0.000000e+00      0.000000e+00       0.000000   0.000000e+00   \n",
       "1181501      0.000000e+00      0.000000e+00       0.000000   1.809172e-06   \n",
       "\n",
       "         sales_6_month  sales_9_month  min_bank  potential_issue  \\\n",
       "0         4.658476e-07   6.239915e-07  0.000003              0.0   \n",
       "1         1.071449e-05   9.671868e-06  0.000006              0.0   \n",
       "2         4.658476e-07   3.119957e-07  0.000003              0.0   \n",
       "3         0.000000e+00   0.000000e+00  0.000003              0.0   \n",
       "4         0.000000e+00   0.000000e+00  0.000006              0.0   \n",
       "...                ...            ...       ...              ...   \n",
       "1181497   9.316951e-07   6.239915e-07  0.000000              0.0   \n",
       "1181498   2.049729e-05   1.996773e-05  0.000051              0.0   \n",
       "1181499   0.000000e+00   0.000000e+00  0.000000              0.0   \n",
       "1181500   4.658476e-07   3.119957e-07  0.000000              0.0   \n",
       "1181501   9.316951e-07   6.239915e-07  0.000003              0.0   \n",
       "\n",
       "         pieces_past_due  perf_6_month_avg  perf_12_month_avg  local_bo_qty  \\\n",
       "0                    0.0              0.98               0.95           0.0   \n",
       "1                    0.0              0.85               0.83           0.0   \n",
       "2                    0.0              0.98               0.94           0.0   \n",
       "3                    0.0              0.58               0.58           0.0   \n",
       "4                    0.0              0.35               0.54           0.0   \n",
       "...                  ...               ...                ...           ...   \n",
       "1181497              0.0              0.73               0.78           0.0   \n",
       "1181498              0.0              0.97               0.93           0.0   \n",
       "1181499              0.0              0.82               0.81           0.0   \n",
       "1181500              0.0              0.93               0.78           0.0   \n",
       "1181501              0.0              0.99               0.99           0.0   \n",
       "\n",
       "         deck_risk  oe_constraint  ppap_risk  stop_auto_buy  rev_stop  \n",
       "0              0.0            0.0        0.0            1.0       0.0  \n",
       "1              1.0            0.0        0.0            1.0       0.0  \n",
       "2              0.0            0.0        0.0            1.0       0.0  \n",
       "3              1.0            0.0        0.0            1.0       0.0  \n",
       "4              0.0            0.0        0.0            1.0       0.0  \n",
       "...            ...            ...        ...            ...       ...  \n",
       "1181497        0.0            0.0        0.0            1.0       0.0  \n",
       "1181498        1.0            0.0        1.0            0.0       0.0  \n",
       "1181499        0.0            0.0        0.0            1.0       0.0  \n",
       "1181500        0.0            0.0        0.0            1.0       0.0  \n",
       "1181501        0.0            0.0        0.0            1.0       0.0  \n",
       "\n",
       "[1181502 rows x 21 columns]"
      ]
     },
     "execution_count": 166,
     "metadata": {},
     "output_type": "execute_result"
    }
   ],
   "source": [
    "x_train"
   ]
  },
  {
   "cell_type": "code",
   "execution_count": 168,
   "metadata": {},
   "outputs": [
    {
     "data": {
      "image/png": "[encoded data removed]",
      "text/plain": [
       "<Figure size 864x576 with 1 Axes>"
      ]
     },
     "metadata": {
      "needs_background": "light"
     },
     "output_type": "display_data"
    }
   ],
   "source": [
    "# Calculate feature importances\n",
    "importances = rf.feature_importances_\n",
    "\n",
    "# Sort feature importances in descending order\n",
    "indices = np.argsort(importances)[::-1]\n",
    "\n",
    "# Rearrange feature names so they match the sorted feature importances\n",
    "names = [x_train.columns[i] for i in indices]\n",
    "\n",
    "# Barplot: Add bars\n",
    "plt.figure(figsize=(12,8))\n",
    "plt.bar(range(x_train.shape[1]), importances[indices] , color = \"orange\")\n",
    "# Add feature names as x-axis labels\n",
    "plt.xticks(range(x_train.shape[1]), names, rotation=90, fontsize = 8)\n",
    "\n",
    "# Create plot title\n",
    "plt.title(\"Feature Importance for SMOTING\")\n",
    "# Show plot\n",
    "plt.xlabel(\"Features\")\n",
    "plt.ylabel(\"Proportion\")\n",
    "plt.show()"
   ]
  },
  {
   "cell_type": "markdown",
   "metadata": {},
   "source": [
    "### Insights: \n",
    "\n",
    "    * Unlike, Under sampling or Over Sampling, here forecast_3months,perf_6months and perf_12months are close to                    national_inventory.\n",
    "    * Thus Smoting technique, gave importance to top 4 features.\n",
    "    "
   ]
  },
  {
   "cell_type": "markdown",
   "metadata": {},
   "source": [
    "### Lets see if we can optimise the threshold "
   ]
  },
  {
   "cell_type": "markdown",
   "metadata": {},
   "source": [
    "#### Youdens-cuttoff"
   ]
  },
  {
   "cell_type": "code",
   "execution_count": 49,
   "metadata": {},
   "outputs": [],
   "source": [
    "#Threshold Moving\n",
    "#func for best threshold\n",
    "def best_threshold(tpr,fpr):\n",
    "    J = tpr - fpr\n",
    "    ix = np.argmax(J) \n",
    "    best_thresh = thresholds[ix]\n",
    "    return(f'Best Threshold',np.round(best_thresh,6))"
   ]
  },
  {
   "cell_type": "code",
   "execution_count": 50,
   "metadata": {},
   "outputs": [],
   "source": [
    "# calculate roc curves with probability\n",
    "fpr, tpr, thresholds = roc_curve(y_pred_final.went_on_backorder, y_pred_final.went_backorder_Prob)"
   ]
  },
  {
   "cell_type": "code",
   "execution_count": 51,
   "metadata": {},
   "outputs": [
    {
     "data": {
      "text/plain": [
       "('Best Threshold', 0.177324)"
      ]
     },
     "execution_count": 51,
     "metadata": {},
     "output_type": "execute_result"
    }
   ],
   "source": [
    "best_threshold(tpr,fpr)"
   ]
  },
  {
   "cell_type": "code",
   "execution_count": 52,
   "metadata": {},
   "outputs": [
    {
     "data": {
      "image/png": "[encoded data removed]",
      "text/plain": [
       "<Figure size 432x288 with 1 Axes>"
      ]
     },
     "metadata": {
      "needs_background": "light"
     },
     "output_type": "display_data"
    }
   ],
   "source": [
    "# plot the roc curve for the model\n",
    "ix = np.argmax(tpr-fpr)\n",
    "plt.plot([0,1], [0,1], linestyle='--', label='No Skill')\n",
    "plt.plot(fpr, tpr, marker='.', label='RandomForest')\n",
    "plt.scatter(fpr[ix], tpr[ix], marker='o', color='black', label='Best')\n",
    "# axis labels\n",
    "plt.xlabel('False Positive Rate')\n",
    "plt.ylabel('True Positive Rate')\n",
    "plt.legend()\n",
    "# show the plot\n",
    "plt.show()"
   ]
  },
  {
   "cell_type": "markdown",
   "metadata": {},
   "source": [
    "### Youdens Cutoff - 0.177"
   ]
  },
  {
   "cell_type": "code",
   "execution_count": 53,
   "metadata": {},
   "outputs": [],
   "source": [
    "y_pred_final['final_predicted'] = y_pred_final.went_backorder_Prob.map( lambda x: 1 if x >= best_threshold(tpr,fpr)[1] else 0)"
   ]
  },
  {
   "cell_type": "code",
   "execution_count": 54,
   "metadata": {},
   "outputs": [
    {
     "data": {
      "text/html": [
       "<div>\n",
       "<style scoped>\n",
       "    .dataframe tbody tr th:only-of-type {\n",
       "        vertical-align: middle;\n",
       "    }\n",
       "\n",
       "    .dataframe tbody tr th {\n",
       "        vertical-align: top;\n",
       "    }\n",
       "\n",
       "    .dataframe thead th {\n",
       "        text-align: right;\n",
       "    }\n",
       "</style>\n",
       "<table border=\"1\" class=\"dataframe\">\n",
       "  <thead>\n",
       "    <tr style=\"text-align: right;\">\n",
       "      <th></th>\n",
       "      <th>sku</th>\n",
       "      <th>went_on_backorder</th>\n",
       "      <th>went_backorder_Prob</th>\n",
       "      <th>predicted</th>\n",
       "      <th>final_predicted</th>\n",
       "    </tr>\n",
       "  </thead>\n",
       "  <tbody>\n",
       "    <tr>\n",
       "      <td>0</td>\n",
       "      <td>696721</td>\n",
       "      <td>0</td>\n",
       "      <td>0.003582</td>\n",
       "      <td>0</td>\n",
       "      <td>0</td>\n",
       "    </tr>\n",
       "    <tr>\n",
       "      <td>1</td>\n",
       "      <td>1580507</td>\n",
       "      <td>0</td>\n",
       "      <td>0.113058</td>\n",
       "      <td>0</td>\n",
       "      <td>0</td>\n",
       "    </tr>\n",
       "    <tr>\n",
       "      <td>2</td>\n",
       "      <td>733985</td>\n",
       "      <td>0</td>\n",
       "      <td>0.243519</td>\n",
       "      <td>0</td>\n",
       "      <td>1</td>\n",
       "    </tr>\n",
       "    <tr>\n",
       "      <td>3</td>\n",
       "      <td>1029932</td>\n",
       "      <td>0</td>\n",
       "      <td>0.019209</td>\n",
       "      <td>0</td>\n",
       "      <td>0</td>\n",
       "    </tr>\n",
       "    <tr>\n",
       "      <td>4</td>\n",
       "      <td>1685688</td>\n",
       "      <td>0</td>\n",
       "      <td>0.100000</td>\n",
       "      <td>0</td>\n",
       "      <td>0</td>\n",
       "    </tr>\n",
       "  </tbody>\n",
       "</table>\n",
       "</div>"
      ],
      "text/plain": [
       "       sku  went_on_backorder  went_backorder_Prob  predicted  final_predicted\n",
       "0   696721                  0             0.003582          0                0\n",
       "1  1580507                  0             0.113058          0                0\n",
       "2   733985                  0             0.243519          0                1\n",
       "3  1029932                  0             0.019209          0                0\n",
       "4  1685688                  0             0.100000          0                0"
      ]
     },
     "execution_count": 54,
     "metadata": {},
     "output_type": "execute_result"
    }
   ],
   "source": [
    "y_pred_final.head()"
   ]
  },
  {
   "cell_type": "code",
   "execution_count": 55,
   "metadata": {},
   "outputs": [
    {
     "name": "stdout",
     "output_type": "stream",
     "text": [
      "[[429447  73546]\n",
      " [   560   2805]]\n"
     ]
    }
   ],
   "source": [
    "Confusion_after_opt_thres = metrics.confusion_matrix(y_pred_final.went_on_backorder, y_pred_final.final_predicted)\n",
    "print(Confusion_after_opt_thres)\n",
    "## the FP has increased tremendously, but the FN have decreases subsequently."
   ]
  },
  {
   "cell_type": "code",
   "execution_count": 56,
   "metadata": {},
   "outputs": [
    {
     "data": {
      "text/plain": [
       "Text(33.0, 0.5, 'Predicted label')"
      ]
     },
     "execution_count": 56,
     "metadata": {},
     "output_type": "execute_result"
    },
    {
     "data": {
      "image/png": "[encoded data removed]",
      "text/plain": [
       "<Figure size 432x288 with 2 Axes>"
      ]
     },
     "metadata": {
      "needs_background": "light"
     },
     "output_type": "display_data"
    }
   ],
   "source": [
    "#confusion matrix for optimised threshold\n",
    "\n",
    "cf_matrix = confusion_matrix(y_pred_final.went_on_backorder, y_pred_final.final_predicted)\n",
    "group_names = ['True Neg','False Pos','False Neg','True Pos']\n",
    "group_counts = [\"{0:0.0f}\".format(value) for value in\n",
    "                cf_matrix.flatten()]\n",
    "group_percentages = [\"{0:.2%}\".format(value) for value in\n",
    "                     cf_matrix.flatten()/np.sum(cf_matrix)]\n",
    "labels = [f'{v1}\\n{v2}\\n{v3}' for v1, v2, v3 in\n",
    "          zip(group_names,group_counts,group_percentages)]\n",
    "labels = np.asarray(labels).reshape(2,2)\n",
    "sns.heatmap(cf_matrix, annot=labels, fmt=\"\")\n",
    "#plt.xticks([2,0])\n",
    "plt.yticks([0,2])\n",
    "plt.title('Confusion matrix for optimised threshold')\n",
    "plt.xlabel('Actual label')\n",
    "plt.ylabel('Predicted label')\n"
   ]
  },
  {
   "cell_type": "code",
   "execution_count": 57,
   "metadata": {},
   "outputs": [
    {
     "name": "stdout",
     "output_type": "stream",
     "text": [
      "              precision    recall  f1-score   support\n",
      "\n",
      "           0       1.00      0.85      0.92    502993\n",
      "           1       0.04      0.83      0.07      3365\n",
      "\n",
      "    accuracy                           0.85    506358\n",
      "   macro avg       0.52      0.84      0.50    506358\n",
      "weighted avg       0.99      0.85      0.91    506358\n",
      "\n"
     ]
    }
   ],
   "source": [
    "Classification_after_opt_thres = metrics.classification_report(y_pred_final.went_on_backorder, y_pred_final.final_predicted)\n",
    "print(Classification_after_opt_thres)"
   ]
  },
  {
   "cell_type": "code",
   "execution_count": 58,
   "metadata": {},
   "outputs": [
    {
     "data": {
      "image/png": "[encoded data removed]",
      "text/plain": [
       "<Figure size 432x288 with 1 Axes>"
      ]
     },
     "metadata": {
      "needs_background": "light"
     },
     "output_type": "display_data"
    },
    {
     "data": {
      "text/plain": [
       "(array([0.        , 0.14621675, 1.        ]),\n",
       " array([0.        , 0.83358098, 1.        ]),\n",
       " array([2, 1, 0], dtype=int64))"
      ]
     },
     "execution_count": 58,
     "metadata": {},
     "output_type": "execute_result"
    }
   ],
   "source": [
    "draw_roc(y_pred_final.went_on_backorder, y_pred_final.final_predicted)"
   ]
  },
  {
   "cell_type": "code",
   "execution_count": 59,
   "metadata": {},
   "outputs": [
    {
     "name": "stdout",
     "output_type": "stream",
     "text": [
      "The AUC score is : 84.36821170641929\n",
      "The Recall score is :  83.35809806835067\n",
      "The Precision score is :  3.673822215819046\n",
      "The f1 score is :  7.037483064880325\n"
     ]
    }
   ],
   "source": [
    "print(\"The AUC score is :\" , roc_auc(y_pred_final.went_on_backorder, y_pred_final.final_predicted) * 100)\n",
    "print(\"The Recall score is : \" , metrics.recall_score(y_pred_final.went_on_backorder, y_pred_final.final_predicted) * 100)\n",
    "print(\"The Precision score is : \" , metrics.precision_score(y_pred_final.went_on_backorder, y_pred_final.final_predicted) * 100)\n",
    "print(\"The f1 score is : \" , metrics.f1_score(y_pred_final.went_on_backorder, y_pred_final.final_predicted) * 100)"
   ]
  },
  {
   "cell_type": "code",
   "execution_count": 60,
   "metadata": {},
   "outputs": [
    {
     "name": "stdout",
     "output_type": "stream",
     "text": [
      "[[429447  73546]\n",
      " [   560   2805]]\n"
     ]
    }
   ],
   "source": [
    "print(Confusion_after_opt_thres)"
   ]
  },
  {
   "cell_type": "code",
   "execution_count": 61,
   "metadata": {},
   "outputs": [
    {
     "data": {
      "text/plain": [
       "Text(33.0, 0.5, 'Predicted label')"
      ]
     },
     "execution_count": 61,
     "metadata": {},
     "output_type": "execute_result"
    },
    {
     "data": {
      "image/png": "[encoded data removed]",
      "text/plain": [
       "<Figure size 432x288 with 2 Axes>"
      ]
     },
     "metadata": {
      "needs_background": "light"
     },
     "output_type": "display_data"
    }
   ],
   "source": [
    "#confusion matrix for optimised threshold\n",
    "\n",
    "cf_matrix = confusion_matrix(y_pred_final.went_on_backorder, y_pred_final.final_predicted)\n",
    "group_names = ['True Neg','False Pos','False Neg','True Pos']\n",
    "group_counts = [\"{0:0.0f}\".format(value) for value in\n",
    "                cf_matrix.flatten()]\n",
    "group_percentages = [\"{0:.2%}\".format(value) for value in\n",
    "                     cf_matrix.flatten()/np.sum(cf_matrix)]\n",
    "labels = [f'{v1}\\n{v2}\\n{v3}' for v1, v2, v3 in\n",
    "          zip(group_names,group_counts,group_percentages)]\n",
    "labels = np.asarray(labels).reshape(2,2)\n",
    "sns.heatmap(cf_matrix, annot=labels, fmt=\"\")\n",
    "#plt.xticks([2,0])\n",
    "plt.yticks([0,2])\n",
    "plt.title('Confusion matrix for optimised threshold')\n",
    "plt.xlabel('Actual label')\n",
    "plt.ylabel('Predicted label')\n"
   ]
  },
  {
   "cell_type": "markdown",
   "metadata": {},
   "source": [
    "### Comparison for SMOTING"
   ]
  },
  {
   "cell_type": "markdown",
   "metadata": {},
   "source": [
    "### BEFORE OPTIMISING THRESHOLD"
   ]
  },
  {
   "cell_type": "markdown",
   "metadata": {},
   "source": [
    "#### ROC_AUC"
   ]
  },
  {
   "cell_type": "code",
   "execution_count": 62,
   "metadata": {},
   "outputs": [
    {
     "name": "stdout",
     "output_type": "stream",
     "text": [
      "The training roc_auc score SMOTING is : 92.0693811809485\n",
      "The testing roc_auc score for SMOTING is :  75.69512065707808\n"
     ]
    }
   ],
   "source": [
    "print(\"The training roc_auc score SMOTING is :\", roc_auc_score(y_train,pred_train)*100)\n",
    "print(\"The testing roc_auc score for SMOTING is : \", roc_auc(y_pred_final.went_on_backorder, y_pred_final.predicted) * 100)"
   ]
  },
  {
   "cell_type": "markdown",
   "metadata": {},
   "source": [
    "#### PRECISION"
   ]
  },
  {
   "cell_type": "code",
   "execution_count": 70,
   "metadata": {},
   "outputs": [
    {
     "name": "stdout",
     "output_type": "stream",
     "text": [
      "The training Precision score SMOTING is : 20.76673440296018\n",
      "The testing Precision score for SMOTING is :  12.407711238720262\n"
     ]
    }
   ],
   "source": [
    "print(\"The training Precision score SMOTING is :\", metrics.precision_score(y_train,pred_train)*100)\n",
    "print(\"The testing Precision score for SMOTING is : \", metrics.precision_score(y_pred_final.went_on_backorder, y_pred_final.predicted) * 100)"
   ]
  },
  {
   "cell_type": "markdown",
   "metadata": {},
   "source": [
    "#### RECALL"
   ]
  },
  {
   "cell_type": "code",
   "execution_count": 63,
   "metadata": {},
   "outputs": [
    {
     "name": "stdout",
     "output_type": "stream",
     "text": [
      "The training Recall score SMOTING is : 86.36478304742684\n",
      "The testing Recall score for SMOTING is :  53.937592867756315\n"
     ]
    }
   ],
   "source": [
    "print(\"The training Recall score SMOTING is :\", metrics.recall_score(y_train,pred_train)*100)\n",
    "print(\"The testing Recall score for SMOTING is : \", metrics.recall_score(y_pred_final.went_on_backorder, y_pred_final.predicted) * 100)"
   ]
  },
  {
   "cell_type": "markdown",
   "metadata": {},
   "source": [
    "#### F1 "
   ]
  },
  {
   "cell_type": "code",
   "execution_count": 64,
   "metadata": {},
   "outputs": [
    {
     "name": "stdout",
     "output_type": "stream",
     "text": [
      "The training F1 score SMOTING is : 33.48248123426\n",
      "The testing F1 score for SMOTING is :  20.174512310342905\n"
     ]
    }
   ],
   "source": [
    "print(\"The training F1 score SMOTING is :\", metrics.f1_score(y_train,pred_train)*100)\n",
    "print(\"The testing F1 score for SMOTING is : \", metrics.f1_score(y_pred_final.went_on_backorder, y_pred_final.predicted) * 100)"
   ]
  },
  {
   "cell_type": "markdown",
   "metadata": {},
   "source": [
    "#### OVERALL"
   ]
  },
  {
   "cell_type": "code",
   "execution_count": 65,
   "metadata": {},
   "outputs": [
    {
     "name": "stdout",
     "output_type": "stream",
     "text": [
      "The AUC score is : 75.69512065707808\n",
      "The Recall score is :  53.937592867756315\n",
      "The Precision score is :  12.407711238720262\n",
      "The f1 score is :  20.174512310342905\n"
     ]
    }
   ],
   "source": [
    "print(\"The AUC score is :\" , roc_auc(y_pred_final.went_on_backorder, y_pred_final.predicted) * 100)\n",
    "print(\"The Recall score is : \" , metrics.recall_score(y_pred_final.went_on_backorder, y_pred_final.predicted) * 100)\n",
    "print(\"The Precision score is : \" , metrics.precision_score(y_pred_final.went_on_backorder, y_pred_final.predicted) * 100)\n",
    "print(\"The f1 score is : \" , metrics.f1_score(y_pred_final.went_on_backorder, y_pred_final.predicted) * 100)"
   ]
  },
  {
   "cell_type": "code",
   "execution_count": 66,
   "metadata": {},
   "outputs": [
    {
     "name": "stdout",
     "output_type": "stream",
     "text": [
      "[[490180  12813]\n",
      " [  1550   1815]]\n"
     ]
    }
   ],
   "source": [
    "print(confusion)"
   ]
  },
  {
   "cell_type": "code",
   "execution_count": 67,
   "metadata": {},
   "outputs": [
    {
     "data": {
      "text/plain": [
       "Text(33.0, 0.5, 'Predicted label')"
      ]
     },
     "execution_count": 67,
     "metadata": {},
     "output_type": "execute_result"
    },
    {
     "data": {
      "image/png": "[encoded data removed]",
      "text/plain": [
       "<Figure size 432x288 with 2 Axes>"
      ]
     },
     "metadata": {
      "needs_background": "light"
     },
     "output_type": "display_data"
    }
   ],
   "source": [
    "#confusion matrix for default threshold\n",
    "\n",
    "cf_matrix = confusion_matrix(y_pred_final.went_on_backorder, y_pred_final.predicted)\n",
    "group_names = ['True Neg','False Pos','False Neg','True Pos']\n",
    "group_counts = [\"{0:0.0f}\".format(value) for value in\n",
    "                cf_matrix.flatten()]\n",
    "group_percentages = [\"{0:.2%}\".format(value) for value in\n",
    "                     cf_matrix.flatten()/np.sum(cf_matrix)]\n",
    "labels = [f'{v1}\\n{v2}\\n{v3}' for v1, v2, v3 in\n",
    "          zip(group_names,group_counts,group_percentages)]\n",
    "labels = np.asarray(labels).reshape(2,2)\n",
    "sns.heatmap(cf_matrix, annot=labels, fmt=\"\")\n",
    "#plt.xticks([2,0])\n",
    "plt.yticks([0,2])\n",
    "plt.title('Confusion matrix for default threshold')\n",
    "plt.xlabel('Actual label')\n",
    "plt.ylabel('Predicted label')\n"
   ]
  },
  {
   "cell_type": "markdown",
   "metadata": {},
   "source": [
    "### AFTER OPTIMISING THRESHOLD"
   ]
  },
  {
   "cell_type": "markdown",
   "metadata": {},
   "source": [
    "#### ROC_AUC"
   ]
  },
  {
   "cell_type": "code",
   "execution_count": 68,
   "metadata": {},
   "outputs": [
    {
     "name": "stdout",
     "output_type": "stream",
     "text": [
      "The training roc_auc score SMOTING is : 92.0693811809485\n",
      "The testing roc_auc score for SMOTING is :  84.36821170641929\n"
     ]
    }
   ],
   "source": [
    "print(\"The training roc_auc score SMOTING is :\", roc_auc_score(y_train,pred_train)*100)\n",
    "print(\"The testing roc_auc score for SMOTING is : \", roc_auc(y_pred_final.went_on_backorder, y_pred_final.final_predicted) * 100)"
   ]
  },
  {
   "cell_type": "markdown",
   "metadata": {},
   "source": [
    "#### PRECISION"
   ]
  },
  {
   "cell_type": "code",
   "execution_count": 69,
   "metadata": {},
   "outputs": [
    {
     "name": "stdout",
     "output_type": "stream",
     "text": [
      "The training Precision score SMOTING is : 20.76673440296018\n",
      "The testing Precision score for SMOTING is :  3.673822215819046\n"
     ]
    }
   ],
   "source": [
    "print(\"The training Precision score SMOTING is :\", metrics.precision_score(y_train,pred_train)*100)\n",
    "print(\"The testing Precision score for SMOTING is : \", metrics.precision_score(y_pred_final.went_on_backorder, y_pred_final.final_predicted) * 100)"
   ]
  },
  {
   "cell_type": "markdown",
   "metadata": {},
   "source": [
    "#### RECALL"
   ]
  },
  {
   "cell_type": "code",
   "execution_count": 72,
   "metadata": {},
   "outputs": [
    {
     "name": "stdout",
     "output_type": "stream",
     "text": [
      "The training Recall score SMOTING is : 86.36478304742684\n",
      "The testing Recall score for SMOTING is :  83.35809806835067\n"
     ]
    }
   ],
   "source": [
    "print(\"The training Recall score SMOTING is :\", metrics.recall_score(y_train,pred_train)*100)\n",
    "print(\"The testing Recall score for SMOTING is : \", metrics.recall_score(y_pred_final.went_on_backorder, y_pred_final.final_predicted) * 100)"
   ]
  },
  {
   "cell_type": "markdown",
   "metadata": {},
   "source": [
    "#### F1"
   ]
  },
  {
   "cell_type": "code",
   "execution_count": 73,
   "metadata": {},
   "outputs": [
    {
     "name": "stdout",
     "output_type": "stream",
     "text": [
      "The training F1 score SMOTING is : 33.48248123426\n",
      "The testing F1 score for SMOTING is :  7.037483064880325\n"
     ]
    }
   ],
   "source": [
    "print(\"The training F1 score SMOTING is :\", metrics.f1_score(y_train,pred_train)*100)\n",
    "print(\"The testing F1 score for SMOTING is : \", metrics.f1_score(y_pred_final.went_on_backorder, y_pred_final.final_predicted) * 100)"
   ]
  },
  {
   "cell_type": "markdown",
   "metadata": {},
   "source": [
    "#### OVERALL"
   ]
  },
  {
   "cell_type": "code",
   "execution_count": 74,
   "metadata": {},
   "outputs": [
    {
     "name": "stdout",
     "output_type": "stream",
     "text": [
      "The AUC score is : 84.36821170641929\n",
      "The Recall score is :  83.35809806835067\n",
      "The Precision score is :  3.673822215819046\n",
      "The f1 score is :  7.037483064880325\n"
     ]
    }
   ],
   "source": [
    "print(\"The AUC score is :\" , roc_auc(y_pred_final.went_on_backorder, y_pred_final.final_predicted) * 100)\n",
    "print(\"The Recall score is : \" , metrics.recall_score(y_pred_final.went_on_backorder, y_pred_final.final_predicted) * 100)\n",
    "print(\"The Precision score is : \" , metrics.precision_score(y_pred_final.went_on_backorder, y_pred_final.final_predicted) * 100)\n",
    "print(\"The f1 score is : \" , metrics.f1_score(y_pred_final.went_on_backorder, y_pred_final.final_predicted) * 100)"
   ]
  },
  {
   "cell_type": "code",
   "execution_count": 75,
   "metadata": {},
   "outputs": [
    {
     "name": "stdout",
     "output_type": "stream",
     "text": [
      "[[429447  73546]\n",
      " [   560   2805]]\n"
     ]
    }
   ],
   "source": [
    "print(Confusion_after_opt_thres)"
   ]
  },
  {
   "cell_type": "code",
   "execution_count": 76,
   "metadata": {},
   "outputs": [
    {
     "data": {
      "text/plain": [
       "Text(33.0, 0.5, 'Predicted label')"
      ]
     },
     "execution_count": 76,
     "metadata": {},
     "output_type": "execute_result"
    },
    {
     "data": {
      "image/png": "[encoded data removed]",
      "text/plain": [
       "<Figure size 432x288 with 2 Axes>"
      ]
     },
     "metadata": {
      "needs_background": "light"
     },
     "output_type": "display_data"
    }
   ],
   "source": [
    "#confusion matrix for optimised threshold\n",
    "\n",
    "cf_matrix = confusion_matrix(y_pred_final.went_on_backorder, y_pred_final.final_predicted)\n",
    "group_names = ['True Neg','False Pos','False Neg','True Pos']\n",
    "group_counts = [\"{0:0.0f}\".format(value) for value in\n",
    "                cf_matrix.flatten()]\n",
    "group_percentages = [\"{0:.2%}\".format(value) for value in\n",
    "                     cf_matrix.flatten()/np.sum(cf_matrix)]\n",
    "labels = [f'{v1}\\n{v2}\\n{v3}' for v1, v2, v3 in\n",
    "          zip(group_names,group_counts,group_percentages)]\n",
    "labels = np.asarray(labels).reshape(2,2)\n",
    "sns.heatmap(cf_matrix, annot=labels, fmt=\"\")\n",
    "#plt.xticks([2,0])\n",
    "plt.yticks([0,2])\n",
    "plt.title('Confusion matrix for optimised threshold')\n",
    "plt.xlabel('Actual label')\n",
    "plt.ylabel('Predicted label')\n"
   ]
  },
  {
   "cell_type": "markdown",
   "metadata": {},
   "source": [
    "## Insights \n",
    "\n",
    "    * We have to check the recall performance metric, as it could reduce our False Negative(Type II error) \n",
    "    * Since we are getting 83% of recall, It is a good model as we select less False Negative with high cost "
   ]
  },
  {
   "cell_type": "markdown",
   "metadata": {},
   "source": [
    "### Let's create a Data Frame "
   ]
  },
  {
   "cell_type": "code",
   "execution_count": 77,
   "metadata": {},
   "outputs": [],
   "source": [
    "# initialize the data\n",
    "\n",
    "data = {\"Under Sampling\" : [99.66,91.41,99.82,89.62,99.50,93.80,99.66,91.66] ,\n",
    "        \"Over Sampling\" : [99.61,99.58,99.63,99.56,99.58,99.60,99.61,99.58],\n",
    "       \"Smoting Before Threshold\":[92.06,75.69,20.76,12.40,86.36,53.93,33.48,20.17],\n",
    "       \"Smoting After Threshold\":[92.06,84.36,20.76,3.67,86.36,83.35,33.48,7.07]}"
   ]
  },
  {
   "cell_type": "code",
   "execution_count": 81,
   "metadata": {},
   "outputs": [],
   "source": [
    "index = [\"Training ROC_AUC\",\"Testing ROC_AUC\",\"Training PRECISION\",\"Testing PRECISION\",\"Training RECALL\",\"Testing RECALL\",\"Training F1\",\"Testing F1\"]"
   ]
  },
  {
   "cell_type": "code",
   "execution_count": 82,
   "metadata": {},
   "outputs": [],
   "source": [
    "final_df = pd.DataFrame(data,index=index)"
   ]
  },
  {
   "cell_type": "code",
   "execution_count": 83,
   "metadata": {},
   "outputs": [
    {
     "data": {
      "text/html": [
       "<div>\n",
       "<style scoped>\n",
       "    .dataframe tbody tr th:only-of-type {\n",
       "        vertical-align: middle;\n",
       "    }\n",
       "\n",
       "    .dataframe tbody tr th {\n",
       "        vertical-align: top;\n",
       "    }\n",
       "\n",
       "    .dataframe thead th {\n",
       "        text-align: right;\n",
       "    }\n",
       "</style>\n",
       "<table border=\"1\" class=\"dataframe\">\n",
       "  <thead>\n",
       "    <tr style=\"text-align: right;\">\n",
       "      <th></th>\n",
       "      <th>Under Sampling</th>\n",
       "      <th>Over Sampling</th>\n",
       "      <th>Smoting Before Threshold</th>\n",
       "      <th>Smoting After Threshold</th>\n",
       "    </tr>\n",
       "  </thead>\n",
       "  <tbody>\n",
       "    <tr>\n",
       "      <td>Training ROC_AUC</td>\n",
       "      <td>99.66</td>\n",
       "      <td>99.61</td>\n",
       "      <td>92.06</td>\n",
       "      <td>92.06</td>\n",
       "    </tr>\n",
       "    <tr>\n",
       "      <td>Testing ROC_AUC</td>\n",
       "      <td>91.41</td>\n",
       "      <td>99.58</td>\n",
       "      <td>75.69</td>\n",
       "      <td>84.36</td>\n",
       "    </tr>\n",
       "    <tr>\n",
       "      <td>Training PRECISION</td>\n",
       "      <td>99.82</td>\n",
       "      <td>99.63</td>\n",
       "      <td>20.76</td>\n",
       "      <td>20.76</td>\n",
       "    </tr>\n",
       "    <tr>\n",
       "      <td>Testing PRECISION</td>\n",
       "      <td>89.62</td>\n",
       "      <td>99.56</td>\n",
       "      <td>12.40</td>\n",
       "      <td>3.67</td>\n",
       "    </tr>\n",
       "    <tr>\n",
       "      <td>Training RECALL</td>\n",
       "      <td>99.50</td>\n",
       "      <td>99.58</td>\n",
       "      <td>86.36</td>\n",
       "      <td>86.36</td>\n",
       "    </tr>\n",
       "    <tr>\n",
       "      <td>Testing RECALL</td>\n",
       "      <td>93.80</td>\n",
       "      <td>99.60</td>\n",
       "      <td>53.93</td>\n",
       "      <td>83.35</td>\n",
       "    </tr>\n",
       "    <tr>\n",
       "      <td>Training F1</td>\n",
       "      <td>99.66</td>\n",
       "      <td>99.61</td>\n",
       "      <td>33.48</td>\n",
       "      <td>33.48</td>\n",
       "    </tr>\n",
       "    <tr>\n",
       "      <td>Testing F1</td>\n",
       "      <td>91.66</td>\n",
       "      <td>99.58</td>\n",
       "      <td>20.17</td>\n",
       "      <td>7.07</td>\n",
       "    </tr>\n",
       "  </tbody>\n",
       "</table>\n",
       "</div>"
      ],
      "text/plain": [
       "                    Under Sampling  Over Sampling  Smoting Before Threshold  \\\n",
       "Training ROC_AUC             99.66          99.61                     92.06   \n",
       "Testing ROC_AUC              91.41          99.58                     75.69   \n",
       "Training PRECISION           99.82          99.63                     20.76   \n",
       "Testing PRECISION            89.62          99.56                     12.40   \n",
       "Training RECALL              99.50          99.58                     86.36   \n",
       "Testing RECALL               93.80          99.60                     53.93   \n",
       "Training F1                  99.66          99.61                     33.48   \n",
       "Testing F1                   91.66          99.58                     20.17   \n",
       "\n",
       "                    Smoting After Threshold  \n",
       "Training ROC_AUC                      92.06  \n",
       "Testing ROC_AUC                       84.36  \n",
       "Training PRECISION                    20.76  \n",
       "Testing PRECISION                      3.67  \n",
       "Training RECALL                       86.36  \n",
       "Testing RECALL                        83.35  \n",
       "Training F1                           33.48  \n",
       "Testing F1                             7.07  "
      ]
     },
     "execution_count": 83,
     "metadata": {},
     "output_type": "execute_result"
    }
   ],
   "source": [
    "final_df"
   ]
  },
  {
   "cell_type": "markdown",
   "metadata": {},
   "source": [
    "## Overall Insights of Re-sampling Techniques "
   ]
  },
  {
   "cell_type": "markdown",
   "metadata": {},
   "source": [
    "    * The problem statement is to predict if the product has gone to backorder or not.\n",
    "    \n",
    "    * While considering this objective, there are various performance metrics which can be pritoritized. \n",
    "    \n",
    "    * Hence, we will be focussing on the Recall metrics for this dataset. \n",
    "    \n",
    "    * Recall concentrates more on the False Negatives.\n",
    "    \n",
    "    * Here, False Negatives are \"Incorrectly Classified Non Back Order\"\n",
    "    \n",
    "    * Lower the FN, Better the model predictions.\n",
    "    \n",
    "    * Undersampling (FN = 211) , Oversampling (FN = 1977) , SMOTE (FN = 560)[After Threshold optimisation]\n",
    "    \n",
    "    * It is clearly understood that, if we undersample the data, we will be obtaining the least FN.\n",
    "    \n",
    "    * However, Undersampling leads to huge loss of data. \n",
    "    \n",
    "    * The observations in this data is highly critical, we should not tolerate loss of data. \n",
    "    \n",
    "    * In-order to recover from this, we can optimise the threshold in our Machine Learning Algorithm. \n",
    "    "
   ]
  },
  {
   "cell_type": "code",
   "execution_count": null,
   "metadata": {},
   "outputs": [],
   "source": []
  }
 ],
 "metadata": {
  "kernelspec": {
   "display_name": "Python 3",
   "language": "python",
   "name": "python3"
  },
  "language_info": {
   "codemirror_mode": {
    "name": "ipython",
    "version": 3
   },
   "file_extension": ".py",
   "mimetype": "text/x-python",
   "name": "python",
   "nbconvert_exporter": "python",
   "pygments_lexer": "ipython3",
   "version": "3.7.4"
  }
 },
 "nbformat": 4,
 "nbformat_minor": 2
}
